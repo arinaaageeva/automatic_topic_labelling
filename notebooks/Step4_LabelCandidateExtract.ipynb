{
 "cells": [
  {
   "cell_type": "code",
   "execution_count": 1,
   "metadata": {},
   "outputs": [],
   "source": [
    "import re\n",
    "import sys\n",
    "\n",
    "import numpy as np\n",
    "import pandas as pd\n",
    "import seaborn as sns\n",
    "import matplotlib.pyplot as plt\n",
    "\n",
    "from itertools import chain\n",
    "from collections import Counter\n",
    "\n",
    "from tqdm import tqdm\n",
    "tqdm.pandas()\n",
    "\n",
    "from sklearn.preprocessing import LabelEncoder\n",
    "\n",
    "sys.path.append('../src')\n",
    "from encode import *\n",
    "from label_candidates_extract import LabelCandidatesExtracter"
   ]
  },
  {
   "cell_type": "markdown",
   "metadata": {},
   "source": [
    "### Обучающая выборка\n",
    "\n",
    "Для \"обучения\" алгоритма TopMine, т.е. для подсчёта частотности чанков на шаге Frequent Phrase Mining, формируем список предложений извлечённых из заголовков и текстов."
   ]
  },
  {
   "cell_type": "code",
   "execution_count": null,
   "metadata": {},
   "outputs": [],
   "source": [
    "articles = pd.read_csv('../data/interim/articles_preproc.csv')\n",
    "\n",
    "articles.title_preproc = articles.title_preproc.apply(conllu_encoder)\n",
    "articles.text_preproc = articles.text_preproc.apply(conllu_encoder)\n",
    "\n",
    "sentences = list(chain(*articles.title_preproc))+list(chain(*articles.text_preproc))"
   ]
  },
  {
   "cell_type": "code",
   "execution_count": 8,
   "metadata": {},
   "outputs": [
    {
     "data": {
      "image/png": "[encoded data removed]",
      "text/plain": [
       "<Figure size 432x288 with 1 Axes>"
      ]
     },
     "metadata": {},
     "output_type": "display_data"
    }
   ],
   "source": [
    "len_titles = articles.title_preproc.apply(lambda x: len(list(chain(*[sent.tokens for sent in x]))))\n",
    "\n",
    "plt.figure()\n",
    "plt.hist(len_titles, bins=100)\n",
    "plt.xlabel('Number tokens in sentences (titles)')\n",
    "plt.ylabel('Number sentences')\n",
    "plt.show()"
   ]
  },
  {
   "cell_type": "markdown",
   "metadata": {},
   "source": [
    "Видим, что заголовки не содердат более 25 слов. Поэтому ограничем длину кандидата в заголовок 50 словами."
   ]
  },
  {
   "cell_type": "code",
   "execution_count": 13,
   "metadata": {},
   "outputs": [
    {
     "name": "stderr",
     "output_type": "stream",
     "text": [
      "100%|██████████| 25/25 [00:18<00:00,  7.65it/s]\n"
     ]
    }
   ],
   "source": [
    "lce = LabelCandidatesExtracter(min_count=3, max_len=25).fit(sentences)\n",
    "lce.dump('../models/label_candidates_extracter')"
   ]
  },
  {
   "cell_type": "markdown",
   "metadata": {},
   "source": [
    "### Выделение кандидатов в заголовках и текстах статей\n",
    "\n",
    "Сформируем таблицу candidates.csv кандидатов в заголовки:\n",
    "\n",
    "* **article_id** - идентификатор новостной статьи\n",
    "* **part** - часть статьи ('title', 'text')\n",
    "* **sent_id** - идентификатор предложения\n",
    "* **sent_n** - количество предложений в тексте\n",
    "* **sent_len** - количество слов в предложении\n",
    "* **begin_index** - индекс, с которого начинается фраза в предложении \n",
    "* **end_index** - индекс, которым заканчивается фраза в предложении\n",
    "* **form_id** - идентификатор кандидата (слова в изначальной грамматической форме)\n",
    "* **lemma_id** - идентификатор кандидата (слова в нормальной грамматической форме)\n",
    "* **main_pos** - значение pos для главного слова в предложении\n",
    "* **main_tag** - значение tag для главного слова в предложении\n",
    "* **sig** - sig из TopMine\n",
    "\n",
    "Также будут таблицы candidate_forms.csv и candidate_lemmas.csv, в которых храняться соответсвующие фразы и их идентификаторы."
   ]
  },
  {
   "cell_type": "code",
   "execution_count": 14,
   "metadata": {},
   "outputs": [
    {
     "name": "stderr",
     "output_type": "stream",
     "text": [
      "11127it [00:43, 256.72it/s]\n"
     ]
    },
    {
     "name": "stdout",
     "output_type": "stream",
     "text": [
      "Всего в корпусе было выделенно 775327 фраз\n",
      "Уникальных фраз 182114\n",
      "После лемматизации уникальных фраз стало 116681\n"
     ]
    }
   ],
   "source": [
    "candidates = []\n",
    "lce = LabelCandidatesExtracter().load('../models/label_candidates_extracter')\n",
    "\n",
    "for _, article in tqdm(articles.iterrows()):\n",
    "    \n",
    "    for part in ['title', 'text']:\n",
    "        \n",
    "        sentences =  article[part+'_preproc']\n",
    "        sent_n = len(sentences)\n",
    "        \n",
    "        for sentence in sentences:\n",
    "            \n",
    "            tokens = sentence.tokens\n",
    "            sent_len = len(tokens)\n",
    "            \n",
    "            for begin, end, sig in lce.transform(sentence):\n",
    "            \n",
    "                candidate = tokens[begin:end]\n",
    "                \n",
    "                #не рассматриваем словосочетания начинающиеся и заканчивающиеся пунктуацией\n",
    "                if candidate[0].pos == 'PUNCT' or candidate[-1].pos == 'PUNCT':\n",
    "                    continue\n",
    "                    \n",
    "                lemma = ''.join([token.lemma+' '*token.space for token in candidate]).strip()\n",
    "                \n",
    "                form = ''.join([token.token+' '*token.space for token in candidate]).strip()\n",
    "                form = form[0].upper()+form[1:]\n",
    "                \n",
    "                for token in candidate:\n",
    "                    if (token.head < begin) or (token.head >= end):\n",
    "                        main_pos = token.pos\n",
    "                        break\n",
    "                \n",
    "                candidates.append((article.id, part, sentence.id, sent_n, sent_len, \n",
    "                                   begin, end, form, lemma, main_pos, sig))\n",
    "                \n",
    "columns = ['article_id', 'part', 'sent_id', 'sent_n', 'sent_len', \n",
    "           'begin_index', 'end_index', 'form_id', 'lemma_id', 'main_pos', 'sig']\n",
    "\n",
    "candidates = pd.DataFrame(candidates, columns=columns)\n",
    "\n",
    "#формируем список кандидатов\n",
    "label_encoder = LabelEncoder().fit(candidates.form_id)\n",
    "candidates.form_id = label_encoder.transform(candidates.form_id)\n",
    "\n",
    "candidate_forms = label_encoder.classes_\n",
    "candidate_forms = pd.DataFrame({'id':range(len(candidate_forms)), 'candidate':candidate_forms})\n",
    "\n",
    "candidate_forms.to_csv('../data/interim/candidate_forms.csv', index=False)\n",
    "\n",
    "#формируем список лемм кандидатов\n",
    "label_encoder = LabelEncoder().fit(candidates.lemma_id)\n",
    "candidates.lemma_id = label_encoder.transform(candidates.lemma_id)\n",
    "\n",
    "candidate_lemmas = label_encoder.classes_\n",
    "candidate_lemmas = pd.DataFrame({'id':range(len(candidate_lemmas)), 'candidate':candidate_lemmas})\n",
    "\n",
    "candidate_lemmas.to_csv('../data/interim/candidate_lemmas.csv', index=False)\n",
    "\n",
    "candidates.to_csv('../data/interim/candidates.csv', index=False)\n",
    "\n",
    "print(f'Всего в корпусе было выделенно {len(candidates)} фраз')\n",
    "print(f'Уникальных фраз {len(candidate_forms)}')\n",
    "print(f'После лемматизации уникальных фраз стало {len(candidate_lemmas)}')"
   ]
  },
  {
   "cell_type": "code",
   "execution_count": 15,
   "metadata": {},
   "outputs": [
    {
     "data": {
      "text/plain": [
       "<matplotlib.axes._subplots.AxesSubplot at 0x7f6798676080>"
      ]
     },
     "execution_count": 15,
     "metadata": {},
     "output_type": "execute_result"
    },
    {
     "data": {
      "image/png": "[encoded data removed]",
      "text/plain": [
       "<Figure size 432x288 with 1 Axes>"
      ]
     },
     "metadata": {},
     "output_type": "display_data"
    }
   ],
   "source": [
    "main_poses = candidates.groupby('lemma_id').main_pos.apply(lambda x: pd.value_counts(x).idxmax())\n",
    "main_poses.value_counts().plot.bar()"
   ]
  },
  {
   "cell_type": "code",
   "execution_count": 16,
   "metadata": {},
   "outputs": [
    {
     "name": "stdout",
     "output_type": "stream",
     "text": [
      "Всего в корпусе было выделенно 671527 фраз\n",
      "Уникальных фраз 163669\n",
      "После лемматизации уникальных фраз стало 104478\n"
     ]
    },
    {
     "data": {
      "text/plain": [
       "<matplotlib.axes._subplots.AxesSubplot at 0x7f679d20a6a0>"
      ]
     },
     "execution_count": 16,
     "metadata": {},
     "output_type": "execute_result"
    },
    {
     "data": {
      "image/png": "[encoded data removed]",
      "text/plain": [
       "<Figure size 432x288 with 1 Axes>"
      ]
     },
     "metadata": {},
     "output_type": "display_data"
    }
   ],
   "source": [
    "#оставим только фраз, где корнем в синтаксическом дереве является либо сущиствительное (NOUN), либо глагол (VERB)\n",
    "candidates = candidates[candidates.main_pos.isin(['NOUN', 'VERB'])]\n",
    "candidates.to_csv('../data/interim/candidates.csv', index=False)\n",
    "\n",
    "candidate_lemmas = candidate_lemmas[candidate_lemmas.id.isin(candidates.lemma_id.unique())]\n",
    "candidate_lemmas.to_csv('../data/interim/candidate_lemmas.csv', index=False)\n",
    "\n",
    "candidate_forms = candidate_forms[candidate_forms.id.isin(candidates.form_id.unique())]\n",
    "candidate_forms.to_csv('../data/interim/candidate_forms.csv', index=False)\n",
    "\n",
    "print(f'Всего в корпусе было выделенно {len(candidates)} фраз')\n",
    "print(f'Уникальных фраз {len(candidate_forms)}')\n",
    "print(f'После лемматизации уникальных фраз стало {len(candidate_lemmas)}')\n",
    "\n",
    "candidates.main_pos.value_counts().plot.bar()"
   ]
  },
  {
   "cell_type": "code",
   "execution_count": 17,
   "metadata": {},
   "outputs": [
    {
     "data": {
      "text/plain": [
       "<matplotlib.axes._subplots.AxesSubplot at 0x7f67695e6f60>"
      ]
     },
     "execution_count": 17,
     "metadata": {},
     "output_type": "execute_result"
    },
    {
     "data": {
      "image/png": "[encoded data removed]",
      "text/plain": [
       "<Figure size 432x288 with 1 Axes>"
      ]
     },
     "metadata": {},
     "output_type": "display_data"
    }
   ],
   "source": [
    "candidates.sig.plot.hist(bins=100)"
   ]
  },
  {
   "cell_type": "markdown",
   "metadata": {},
   "source": [
    "### Формирование данных для Яндекс.Толока (формат *.tsv)"
   ]
  },
  {
   "cell_type": "code",
   "execution_count": 18,
   "metadata": {},
   "outputs": [],
   "source": [
    "candidate_forms = pd.read_csv('../data/interim/candidate_forms.csv')\n",
    "candidate_forms = candidate_forms.candidate.apply(lambda x: x+'\\t\\t')\n",
    "candidate_forms = candidate_forms.values[np.random.permutation(len(candidate_forms))]\n",
    "\n",
    "pull_numbers = 10\n",
    "pull_size = len(candidate_forms)//pull_numbers+1\n",
    "\n",
    "for index in range(pull_numbers):\n",
    "\n",
    "    with open(f'../data/interim/candidate_forms_toloka_{index}.tsv', 'w', encoding='utf-8') as fl:\n",
    "        fl.write('INPUT:text\\tGOLDEN:result\\tHINT:text\\n')\n",
    "        fl.write('\\n'.join(candidate_forms[index*pull_size:(index+1)*pull_size]))"
   ]
  },
  {
   "cell_type": "code",
   "execution_count": null,
   "metadata": {},
   "outputs": [],
   "source": []
  }
 ],
 "metadata": {
  "kernelspec": {
   "display_name": "Python 3",
   "language": "python",
   "name": "python3"
  },
  "language_info": {
   "codemirror_mode": {
    "name": "ipython",
    "version": 3
   },
   "file_extension": ".py",
   "mimetype": "text/x-python",
   "name": "python",
   "nbconvert_exporter": "python",
   "pygments_lexer": "ipython3",
   "version": "3.6.5"
  }
 },
 "nbformat": 4,
 "nbformat_minor": 2
}
