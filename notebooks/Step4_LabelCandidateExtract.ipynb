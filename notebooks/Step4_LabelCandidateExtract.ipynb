{
 "cells": [
  {
   "cell_type": "code",
   "execution_count": 1,
   "metadata": {},
   "outputs": [],
   "source": [
    "import re\n",
    "import sys\n",
    "\n",
    "import pandas as pd\n",
    "import seaborn as sns\n",
    "import matplotlib.pyplot as plt\n",
    "\n",
    "from itertools import chain\n",
    "from collections import Counter\n",
    "\n",
    "from tqdm import tqdm\n",
    "tqdm.pandas()\n",
    "\n",
    "from sklearn.preprocessing import LabelEncoder\n",
    "\n",
    "sys.path.append('../src')\n",
    "from encode import *\n",
    "from label_candidates_extract import LabelCandidatesExtracter"
   ]
  },
  {
   "cell_type": "markdown",
   "metadata": {},
   "source": [
    "### Обучающая выборка"
   ]
  },
  {
   "cell_type": "code",
   "execution_count": 2,
   "metadata": {},
   "outputs": [],
   "source": [
    "articles = pd.read_csv('../data/interim/articles_preproc.csv')\n",
    "\n",
    "articles.title_preproc = articles.title_preproc.apply(conllu_encoder)\n",
    "articles.text_preproc = articles.text_preproc.apply(conllu_encoder)\n",
    "\n",
    "sentences = list(chain(*articles.title_preproc))+list(chain(*articles.text_preproc))"
   ]
  },
  {
   "cell_type": "markdown",
   "metadata": {},
   "source": [
    "### Гистограмма количества слов в предложениях"
   ]
  },
  {
   "cell_type": "code",
   "execution_count": 3,
   "metadata": {},
   "outputs": [
    {
     "data": {
      "image/png": "[encoded data removed]",
      "text/plain": [
       "<Figure size 432x288 with 1 Axes>"
      ]
     },
     "metadata": {},
     "output_type": "display_data"
    }
   ],
   "source": [
    "plt.figure()\n",
    "plt.hist([len(sent.tokens) for sent in sentences], bins=1000)\n",
    "plt.xlabel('Number tokens in sentences')\n",
    "plt.ylabel('Number sentences')\n",
    "plt.show()"
   ]
  },
  {
   "cell_type": "markdown",
   "metadata": {},
   "source": [
    "Ограничем длину кандидата в заголовок 100 словами."
   ]
  },
  {
   "cell_type": "code",
   "execution_count": 4,
   "metadata": {},
   "outputs": [
    {
     "name": "stderr",
     "output_type": "stream",
     "text": [
      "100%|██████████| 100/100 [03:24<00:00,  1.13it/s]\n"
     ]
    }
   ],
   "source": [
    "lce = LabelCandidatesExtracter(max_len=100).fit(sentences)"
   ]
  },
  {
   "cell_type": "markdown",
   "metadata": {},
   "source": [
    "### Выделение кандидатов в заголовках и текстах статей\n",
    "\n",
    "Сформируем таблицу candidates.csv кандидатов в заголовки:\n",
    "\n",
    "* **article_id** - идентификатор новостной статьи\n",
    "* **part** - часть статьи ('title', 'text')\n",
    "* **sent_id** - идентификатор предложения\n",
    "* **begin_index** - индекс, с которого начинается фраза в предложении \n",
    "* **end_index** - индекс, которым заканчивается фраза в предложении\n",
    "* **form_id** - идентификатор кандидата (слова в изначальной грамматической форме)\n",
    "* **lemma_id** - идентификатор кандидата (слова в нормальной грамматической форме)\n",
    "* **sig** - sig из TopMine\n",
    "\n",
    "Также будут таблицы candidate_forms.csv и candidate_lemmas.csv, в которых храняться соответсвующие фразы и их идентификаторы."
   ]
  },
  {
   "cell_type": "code",
   "execution_count": 5,
   "metadata": {},
   "outputs": [
    {
     "name": "stderr",
     "output_type": "stream",
     "text": [
      "11127it [01:20, 137.81it/s]\n"
     ]
    }
   ],
   "source": [
    "candidates = []\n",
    "\n",
    "for _, article in tqdm(articles.iterrows()):\n",
    "    \n",
    "    for part in ['title', 'text']:\n",
    "        for sentence in article[part+'_preproc']:\n",
    "            for begin, end, sig in lce.transform(sentence):\n",
    "            \n",
    "                candidate = sentence.tokens[begin:end]\n",
    "                \n",
    "                #Не будем брать кандидаты начинающиеся или заканчивающиеся пунктуацией  \n",
    "                if candidate[0].pos == 'PUNCT' or candidate[-1].pos == 'PUNCT':\n",
    "                    continue\n",
    "                    \n",
    "                lemma = ''.join([token.lemma+' '*token.space for token in candidate]).strip()\n",
    "                \n",
    "                #Не будем брать кандидаты в которых нет букв\n",
    "                if not re.match('[а-яёй]', lemma):\n",
    "                    continue\n",
    "\n",
    "                form = ''.join([token.token+' '*token.space for token in candidate]).strip()\n",
    "    \n",
    "                candidates.append((article.id, part, sentence.id, begin, end, form, lemma, sig))\n",
    "\n",
    "columns = ['article_id', 'part', 'sent_id', 'begin_index', 'end_index', 'form_id', 'lemma_id', 'sig']\n",
    "candidates = pd.DataFrame(candidates, columns=columns)\n",
    "\n",
    "#оставляем только кандидатов, которые встречались более двух раз\n",
    "candidate_lemma_counts = candidates.groupby('lemma_id').lemma_id.count()\n",
    "candidate_lemma_counts = candidate_lemma_counts[candidate_lemma_counts.values > 2]\n",
    "\n",
    "candidates = candidates[candidates.lemma_id.isin(candidate_lemma_counts.index)]\n",
    "candidates.to_csv('../data/interim/candidates.csv', index=False)\n",
    "\n",
    "#удаляем кандидаты, которые имеют не положительный sig\n",
    "candidates = candidates[candidates.sig > 0]\n",
    "candidates.to_csv('../data/interim/candidates.csv', index=False)\n",
    "\n",
    "#формируем список кандидатов\n",
    "label_encoder = LabelEncoder().fit(candidates.form_id)\n",
    "candidates.form_id = label_encoder.transform(candidates.form_id)\n",
    "\n",
    "candidate_forms = label_encoder.classes_\n",
    "candidate_forms = pd.DataFrame({'id':range(len(candidate_forms)), 'candidate':candidate_forms})\n",
    "\n",
    "candidate_forms.to_csv('../data/interim/candidate_forms.csv', index=False)\n",
    "\n",
    "#формируем список лемм кандидатов\n",
    "label_encoder = LabelEncoder().fit(candidates.lemma_id)\n",
    "candidates.lemma_id = label_encoder.transform(candidates.lemma_id)\n",
    "\n",
    "candidate_lemmas = label_encoder.classes_\n",
    "candidate_lemmas = pd.DataFrame({'id':range(len(candidate_lemmas)), 'candidate':candidate_lemmas})\n",
    "\n",
    "candidate_lemmas.to_csv('../data/interim/candidate_lemmas.csv', index=False)"
   ]
  },
  {
   "cell_type": "code",
   "execution_count": 11,
   "metadata": {},
   "outputs": [
    {
     "data": {
      "image/png": "[encoded data removed]",
      "text/plain": [
       "<Figure size 432x288 with 1 Axes>"
      ]
     },
     "metadata": {},
     "output_type": "display_data"
    }
   ],
   "source": [
    "plt.figure()\n",
    "plt.hist(candidates.groupby('lemma_id').sig.mean().values, bins=1000)\n",
    "plt.ylabel('Number candidates')\n",
    "plt.xlabel('sig (TopMine)')\n",
    "plt.show()"
   ]
  }
 ],
 "metadata": {
  "kernelspec": {
   "display_name": "Python 3",
   "language": "python",
   "name": "python3"
  },
  "language_info": {
   "codemirror_mode": {
    "name": "ipython",
    "version": 3
   },
   "file_extension": ".py",
   "mimetype": "text/x-python",
   "name": "python",
   "nbconvert_exporter": "python",
   "pygments_lexer": "ipython3",
   "version": "3.6.5"
  }
 },
 "nbformat": 4,
 "nbformat_minor": 2
}
