{
 "cells": [
  {
   "cell_type": "code",
   "execution_count": 1,
   "metadata": {},
   "outputs": [],
   "source": [
    "import re\n",
    "import sys\n",
    "\n",
    "import numpy as np\n",
    "import pandas as pd\n",
    "import seaborn as sns\n",
    "import matplotlib.pyplot as plt\n",
    "\n",
    "from itertools import chain\n",
    "from collections import Counter\n",
    "\n",
    "from tqdm import tqdm\n",
    "tqdm.pandas()\n",
    "\n",
    "from sklearn.preprocessing import LabelEncoder\n",
    "\n",
    "sys.path.append('../src')\n",
    "from encode import *\n",
    "from label_candidates_extract import LabelCandidatesExtracter"
   ]
  },
  {
   "cell_type": "markdown",
   "metadata": {},
   "source": [
    "### Обучающая выборка\n",
    "\n",
    "Для \"обучения\" алгоритма TopMine, т.е. для подсчёта частотности чанков на шаге Frequent Phrase Mining, формируем список предложений извлечённых из заголовков и текстов."
   ]
  },
  {
   "cell_type": "code",
   "execution_count": 2,
   "metadata": {},
   "outputs": [],
   "source": [
    "articles = pd.read_csv('../data/interim/articles_preproc.csv')\n",
    "\n",
    "articles.title_preproc = articles.title_preproc.apply(conllu_encoder)\n",
    "articles.text_preproc = articles.text_preproc.apply(conllu_encoder)\n",
    "\n",
    "sentences = list(chain(*articles.title_preproc))+list(chain(*articles.text_preproc))"
   ]
  },
  {
   "cell_type": "markdown",
   "metadata": {},
   "source": [
    "Посмотрим на **гистограмму слов в предложения**"
   ]
  },
  {
   "cell_type": "code",
   "execution_count": 3,
   "metadata": {},
   "outputs": [
    {
     "data": {
      "image/png": "[encoded data removed]",
      "text/plain": [
       "<Figure size 432x288 with 1 Axes>"
      ]
     },
     "metadata": {},
     "output_type": "display_data"
    }
   ],
   "source": [
    "len_sentences = np.array([len(sent.tokens) for sent in sentences])\n",
    "\n",
    "plt.figure()\n",
    "plt.hist(len_sentences, bins=1000)\n",
    "plt.xlabel('Number tokens in sentences')\n",
    "plt.ylabel('Number sentences')\n",
    "plt.show()"
   ]
  },
  {
   "cell_type": "markdown",
   "metadata": {},
   "source": [
    "Видим, что большенство предложений содержит не более 50 слов."
   ]
  },
  {
   "cell_type": "code",
   "execution_count": 4,
   "metadata": {},
   "outputs": [
    {
     "name": "stdout",
     "output_type": "stream",
     "text": [
      "Доля предложений содержащих более 50 слов: 0.008684093224656138\n"
     ]
    }
   ],
   "source": [
    "print(f'Доля предложений содержащих более 50 слов: {len(len_sentences[len_sentences > 50])/len(len_sentences)}')"
   ]
  },
  {
   "cell_type": "markdown",
   "metadata": {},
   "source": [
    "Поэтому ограничем длину кандидата в заголовок 50 словами."
   ]
  },
  {
   "cell_type": "code",
   "execution_count": 5,
   "metadata": {},
   "outputs": [
    {
     "name": "stderr",
     "output_type": "stream",
     "text": [
      "100%|██████████| 50/50 [00:19<00:00, 19.68it/s]\n"
     ]
    }
   ],
   "source": [
    "lce = LabelCandidatesExtracter(min_count=3, max_len=50).fit(sentences)\n",
    "lce.dump('../models/label_candidates_extracter')"
   ]
  },
  {
   "cell_type": "markdown",
   "metadata": {},
   "source": [
    "### Выделение кандидатов в заголовках и текстах статей\n",
    "\n",
    "Сформируем таблицу candidates.csv кандидатов в заголовки:\n",
    "\n",
    "* **article_id** - идентификатор новостной статьи\n",
    "* **part** - часть статьи ('title', 'text')\n",
    "* **sent_id** - идентификатор предложения\n",
    "* **sent_n** - количество предложений в тексте\n",
    "* **sent_len** - количество слов в предложении\n",
    "* **begin_index** - индекс, с которого начинается фраза в предложении \n",
    "* **end_index** - индекс, которым заканчивается фраза в предложении\n",
    "* **form_id** - идентификатор кандидата (слова в изначальной грамматической форме)\n",
    "* **lemma_id** - идентификатор кандидата (слова в нормальной грамматической форме)\n",
    "* **main_pos** - значение pos для главного слова в предложении\n",
    "* **main_tag** - значение tag для главного слова в предложении\n",
    "* **sig** - sig из TopMine\n",
    "\n",
    "Также будут таблицы candidate_forms.csv и candidate_lemmas.csv, в которых храняться соответсвующие фразы и их идентификаторы."
   ]
  },
  {
   "cell_type": "code",
   "execution_count": 6,
   "metadata": {},
   "outputs": [
    {
     "name": "stderr",
     "output_type": "stream",
     "text": [
      "11127it [00:42, 259.10it/s]\n"
     ]
    }
   ],
   "source": [
    "candidates = []\n",
    "lce = LabelCandidatesExtracter().load('../models/label_candidates_extracter')\n",
    "\n",
    "for _, article in tqdm(articles.iterrows()):\n",
    "    \n",
    "    for part in ['title', 'text']:\n",
    "        \n",
    "        sentences =  article[part+'_preproc']\n",
    "        sent_n = len(sentences)\n",
    "        \n",
    "        for sentence in sentences:\n",
    "            \n",
    "            tokens = sentence.tokens\n",
    "            sent_len = len(tokens)\n",
    "            \n",
    "            for begin, end, sig in lce.transform(sentence):\n",
    "            \n",
    "                candidate = tokens[begin:end]\n",
    "                \n",
    "                #не рассматриваем словосочетания начинающиеся и заканчивающиеся пунктуацией\n",
    "                if candidate[0].pos == 'PUNCT' or candidate[-1].pos == 'PUNCT':\n",
    "                    continue\n",
    "                    \n",
    "                lemma = ''.join([token.lemma+' '*token.space for token in candidate]).strip()\n",
    "                \n",
    "                form = ''.join([token.token+' '*token.space for token in candidate]).strip()\n",
    "                form = form[0].upper()+form[1:]\n",
    "                \n",
    "                for token in candidate:\n",
    "                    if (token.head < begin) or (token.head >= end):\n",
    "                        main_pos = token.pos\n",
    "                        break\n",
    "                \n",
    "                candidates.append((article.id, part, sentence.id, sent_n, sent_len, \n",
    "                                   begin, end, form, lemma, main_pos, sig))\n",
    "                \n",
    "columns = ['article_id', 'part', 'sent_id', 'sent_n', 'sent_len', \n",
    "           'begin_index', 'end_index', 'form_id', 'lemma_id', 'main_pos', 'sig']\n",
    "\n",
    "candidates = pd.DataFrame(candidates, columns=columns)\n",
    "\n",
    "#формируем список кандидатов\n",
    "label_encoder = LabelEncoder().fit(candidates.form_id)\n",
    "candidates.form_id = label_encoder.transform(candidates.form_id)\n",
    "\n",
    "candidate_forms = label_encoder.classes_\n",
    "candidate_forms = pd.DataFrame({'id':range(len(candidate_forms)), 'candidate':candidate_forms})\n",
    "\n",
    "candidate_forms.to_csv('../data/interim/candidate_forms.csv', index=False)\n",
    "\n",
    "#формируем список лемм кандидатов\n",
    "label_encoder = LabelEncoder().fit(candidates.lemma_id)\n",
    "candidates.lemma_id = label_encoder.transform(candidates.lemma_id)\n",
    "\n",
    "candidate_lemmas = label_encoder.classes_\n",
    "candidate_lemmas = pd.DataFrame({'id':range(len(candidate_lemmas)), 'candidate':candidate_lemmas})\n",
    "\n",
    "candidate_lemmas.to_csv('../data/interim/candidate_lemmas.csv', index=False)\n",
    "\n",
    "candidates.to_csv('../data/interim/candidates.csv', index=False)"
   ]
  },
  {
   "cell_type": "code",
   "execution_count": 7,
   "metadata": {},
   "outputs": [
    {
     "name": "stdout",
     "output_type": "stream",
     "text": [
      "Всего в корпусе было выделенно 775833 фраз\n",
      "Уникальных фраз 182334\n",
      "После лемматизации уникальных фраз стало 116873\n"
     ]
    }
   ],
   "source": [
    "print(f'Всего в корпусе было выделенно {len(candidates)} фраз')\n",
    "print(f'Уникальных фраз {len(candidate_forms)}')\n",
    "print(f'После лемматизации уникальных фраз стало {len(candidate_lemmas)}')"
   ]
  },
  {
   "cell_type": "code",
   "execution_count": 8,
   "metadata": {},
   "outputs": [
    {
     "data": {
      "text/plain": [
       "<matplotlib.axes._subplots.AxesSubplot at 0x7f3bd58c3a20>"
      ]
     },
     "execution_count": 8,
     "metadata": {},
     "output_type": "execute_result"
    },
    {
     "data": {
      "image/png": "[encoded data removed]",
      "text/plain": [
       "<Figure size 432x288 with 1 Axes>"
      ]
     },
     "metadata": {},
     "output_type": "display_data"
    }
   ],
   "source": [
    "main_poses = candidates.groupby('lemma_id').main_pos.apply(lambda x: pd.value_counts(x).idxmax())\n",
    "main_poses.value_counts().plot.bar()"
   ]
  },
  {
   "cell_type": "code",
   "execution_count": 13,
   "metadata": {},
   "outputs": [
    {
     "name": "stdout",
     "output_type": "stream",
     "text": [
      "Всего в корпусе было выделенно 671918 фраз\n",
      "Уникальных фраз 163841\n",
      "После лемматизации уникальных фраз стало 104630\n"
     ]
    },
    {
     "data": {
      "text/plain": [
       "<matplotlib.axes._subplots.AxesSubplot at 0x7f3bd5543a58>"
      ]
     },
     "execution_count": 13,
     "metadata": {},
     "output_type": "execute_result"
    },
    {
     "data": {
      "image/png": "[encoded data removed]",
      "text/plain": [
       "<Figure size 432x288 with 1 Axes>"
      ]
     },
     "metadata": {},
     "output_type": "display_data"
    }
   ],
   "source": [
    "#оставим только фраз, где корнем в синтаксическом дереве является либо сущиствительное (NOUN), либо глагол (VERB)\n",
    "candidates = candidates[candidates.main_pos.isin(['NOUN', 'VERB'])]\n",
    "candidates.to_csv('../data/interim/candidates.csv', index=False)\n",
    "\n",
    "candidate_lemmas = candidate_lemmas[candidate_lemmas.id.isin(candidates.lemma_id.unique())]\n",
    "candidate_lemmas.to_csv('../data/interim/candidate_lemmas.csv', index=False)\n",
    "\n",
    "candidate_forms = candidate_forms[candidate_forms.id.isin(candidates.form_id.unique())]\n",
    "candidate_forms.to_csv('../data/interim/candidate_forms.csv', index=False)\n",
    "\n",
    "print(f'Всего в корпусе было выделенно {len(candidates)} фраз')\n",
    "print(f'Уникальных фраз {len(candidate_forms)}')\n",
    "print(f'После лемматизации уникальных фраз стало {len(candidate_lemmas)}')\n",
    "\n",
    "candidates.main_pos.value_counts().plot.bar()"
   ]
  },
  {
   "cell_type": "code",
   "execution_count": 19,
   "metadata": {},
   "outputs": [
    {
     "data": {
      "text/plain": [
       "<matplotlib.axes._subplots.AxesSubplot at 0x7f3bcf5f0da0>"
      ]
     },
     "execution_count": 19,
     "metadata": {},
     "output_type": "execute_result"
    },
    {
     "data": {
      "image/png": "[encoded data removed]",
      "text/plain": [
       "<Figure size 432x288 with 1 Axes>"
      ]
     },
     "metadata": {},
     "output_type": "display_data"
    }
   ],
   "source": [
    "candidates.sig.plot.hist(bins=100)"
   ]
  },
  {
   "cell_type": "code",
   "execution_count": 64,
   "metadata": {},
   "outputs": [
    {
     "name": "stderr",
     "output_type": "stream",
     "text": [
      "100%|██████████| 50765/50765 [01:03<00:00, 793.76it/s]\n"
     ]
    }
   ],
   "source": [
    "with open('/home/arina/Documents/automatic_topic_labelling/data/interim/tags_verb.txt', 'w') as fl:\n",
    "\n",
    "    for (lemma_id, form_id), group in tqdm(candidates_verb.groupby(['lemma_id', 'form_id'])):\n",
    "        tag = group.main_tag.value_counts().idxmax()\n",
    "\n",
    "        lemma = candidate_lemmas[candidate_lemmas.id==lemma_id].candidate.iloc[0]\n",
    "        form = candidate_forms[candidate_forms.id==form_id].candidate.iloc[0]\n",
    "\n",
    "        fl.write(' | '.join([lemma, form, tag])+'\\n')"
   ]
  },
  {
   "cell_type": "code",
   "execution_count": 42,
   "metadata": {},
   "outputs": [
    {
     "name": "stdout",
     "output_type": "stream",
     "text": [
      "        form_id                         main_tag\n",
      "569079        2  Case=Nom|Gender=Fem|Number=Sing\n",
      "569080        2  Case=Nom|Gender=Fem|Number=Sing\n",
      "569081        2  Case=Nom|Gender=Fem|Number=Sing\n"
     ]
    }
   ],
   "source": [
    "for lemma_id, group in candidates[candidates.main_pos == 'NOUN'].groupby('lemma_id'):\n",
    "    \n",
    "    form_ids = group[['form_id', 'main_tag']]\n",
    "    print(form_ids)\n",
    "    break\n",
    "    #if len(form_ids) > 1:\n",
    "    #    print(candidate_lemmas[candidate_lemmas.id == lemma_id].candidate.iloc[0])\n",
    "    #    for form_id in form_ids:\n",
    "    #        print(candidate_forms[candidate_forms.id == form_id].candidate.iloc[0], )\n",
    "    #    break"
   ]
  },
  {
   "cell_type": "code",
   "execution_count": 9,
   "metadata": {},
   "outputs": [],
   "source": [
    "#уберём все словосочетания, которые встретились менее 3х раз\n",
    "\n",
    "candidates = pd.read_csv('../data/interim/candidates.csv')\n",
    "\n",
    "lemma_counts = candidates.lemma_id.value_counts()\n",
    "lemma_counts = lemma_counts[lemma_counts > 2]\n",
    "\n",
    "candidates = candidates[candidates.lemma_id.isin(lemma_counts.index)]\n",
    "candidates.to_csv('../data/interim/candidates.csv', index=False)"
   ]
  },
  {
   "cell_type": "code",
   "execution_count": 10,
   "metadata": {},
   "outputs": [
    {
     "data": {
      "text/plain": [
       "(836281, 8)"
      ]
     },
     "execution_count": 10,
     "metadata": {},
     "output_type": "execute_result"
    }
   ],
   "source": [
    "candidates.shape"
   ]
  },
  {
   "cell_type": "code",
   "execution_count": 11,
   "metadata": {},
   "outputs": [
    {
     "name": "stderr",
     "output_type": "stream",
     "text": [
      "100%|██████████| 836281/836281 [06:51<00:00, 2030.23it/s]\n"
     ]
    }
   ],
   "source": [
    "#уберём все словосочетания, которые начинаются или заканчиваются знаком припинания\n",
    "\n",
    "candidates = pd.read_csv('../data/interim/candidates.csv')\n",
    "\n",
    "def detect_punct(row):\n",
    "    \n",
    "    article = articles[articles.id == row.article_id].iloc[0]\n",
    "    sentence = article[row.part+'_preproc'][row.sent_id]\n",
    "    tokens = sentence.tokens[row.begin_index:row.end_index]\n",
    "    tokens_pos = [token.pos for token in tokens]\n",
    "    \n",
    "    return tokens_pos[0] == 'PUNCT' or tokens_pos[-1] == 'PUNCT'\n",
    "\n",
    "candidates = candidates[~candidates.progress_apply(detect_punct, axis=1)]\n",
    "candidates.to_csv('../data/interim/candidates.csv', index=False)"
   ]
  },
  {
   "cell_type": "code",
   "execution_count": 12,
   "metadata": {},
   "outputs": [
    {
     "data": {
      "text/plain": [
       "(721837, 8)"
      ]
     },
     "execution_count": 12,
     "metadata": {},
     "output_type": "execute_result"
    }
   ],
   "source": [
    "candidates.shape"
   ]
  },
  {
   "cell_type": "code",
   "execution_count": 87,
   "metadata": {},
   "outputs": [
    {
     "name": "stderr",
     "output_type": "stream",
     "text": [
      "100%|██████████| 721837/721837 [06:13<00:00, 1931.57it/s]\n"
     ]
    },
    {
     "data": {
      "text/plain": [
       "NOUN     491073\n",
       "VERB     133704\n",
       "ADJ       35175\n",
       "PRON      16138\n",
       "NUM       15944\n",
       "ADP       11466\n",
       "ADV        8159\n",
       "CONJ       4448\n",
       "DET        4363\n",
       "PART       1051\n",
       "PUNCT       166\n",
       "INTJ        148\n",
       "H             2\n",
       "dtype: int64"
      ]
     },
     "execution_count": 87,
     "metadata": {},
     "output_type": "execute_result"
    }
   ],
   "source": [
    "#заметим, что встречаются ошибки в определении морфологии\n",
    "\n",
    "def detect_pos_main_token(row):\n",
    "    \n",
    "    current = articles[articles.id == row.article_id].iloc[0]\n",
    "    current = current[row.part+'_preproc']\n",
    "    current = current[row.sent_id]\n",
    "    current = current.tokens[row.begin_index:row.end_index]\n",
    "    \n",
    "    for token in current:\n",
    "        if not row.begin_index <= token.head < row.end_index:\n",
    "            return token.pos\n",
    "    \n",
    "pos_main_tokens = candidates.progress_apply(detect_pos_main_token, axis=1)\n",
    "pos_main_tokens.value_counts()"
   ]
  },
  {
   "cell_type": "code",
   "execution_count": 98,
   "metadata": {},
   "outputs": [],
   "source": [
    "candidate_lemmas = pd.read_csv('../data/interim/candidate_lemmas.csv')\n",
    "candidate_forms = pd.read_csv('../data/interim/candidate_forms.csv')"
   ]
  },
  {
   "cell_type": "code",
   "execution_count": 93,
   "metadata": {},
   "outputs": [],
   "source": [
    "candidates = candidates[(pos_main_tokens == 'NOUN')|(pos_main_tokens == 'VERB')]"
   ]
  },
  {
   "cell_type": "code",
   "execution_count": 100,
   "metadata": {},
   "outputs": [],
   "source": [
    "candidate_lemmas = candidate_lemmas[candidate_lemmas.id.isin(candidates.lemma_id.unique())]\n",
    "candidate_forms = candidate_forms[candidate_forms.id.isin(candidates.form_id.unique())]"
   ]
  },
  {
   "cell_type": "code",
   "execution_count": 107,
   "metadata": {},
   "outputs": [],
   "source": [
    "with open('/home/arina/Documents/automatic_topic_labelling/data/interim/test.txt', 'w') as fl:\n",
    "    fl.write('\\n'.join(candidate_forms.candidate))"
   ]
  },
  {
   "cell_type": "code",
   "execution_count": 13,
   "metadata": {},
   "outputs": [
    {
     "data": {
      "image/png": "[encoded data removed]",
      "text/plain": [
       "<Figure size 432x288 with 1 Axes>"
      ]
     },
     "metadata": {},
     "output_type": "display_data"
    }
   ],
   "source": [
    "plt.figure()\n",
    "plt.hist(candidates.groupby('lemma_id').sig.mean().values, bins=1000)\n",
    "plt.ylabel('Number candidates')\n",
    "plt.xlabel('significance (TopMine)')\n",
    "plt.show()"
   ]
  },
  {
   "cell_type": "markdown",
   "metadata": {},
   "source": [
    "### Формирование данных для Яндекс.Толока (формат *.tsv)"
   ]
  },
  {
   "cell_type": "code",
   "execution_count": 13,
   "metadata": {},
   "outputs": [],
   "source": [
    "candidate_forms = pd.read_csv('../data/interim/candidate_forms.csv')\n",
    "candidate_forms = candidate_forms.candidate.apply(lambda x: x+'\\t\\t')\n",
    "candidate_forms = candidate_forms.values[np.random.permutation(len(candidate_forms))]\n",
    "\n",
    "pull_numbers = 10\n",
    "pull_size = len(candidate_forms)//pull_numbers+1\n",
    "\n",
    "for index in range(pull_numbers):\n",
    "\n",
    "    with open(f'../data/interim/candidate_forms_toloka_{index}.tsv', 'w', encoding='utf-8') as fl:\n",
    "        fl.write('INPUT:text\\tGOLDEN:result\\tHINT:text\\n')\n",
    "        fl.write('\\n'.join(candidate_forms[index*pull_size:(index+1)*pull_size]))"
   ]
  },
  {
   "cell_type": "code",
   "execution_count": null,
   "metadata": {},
   "outputs": [],
   "source": []
  }
 ],
 "metadata": {
  "kernelspec": {
   "display_name": "Python 3",
   "language": "python",
   "name": "python3"
  },
  "language_info": {
   "codemirror_mode": {
    "name": "ipython",
    "version": 3
   },
   "file_extension": ".py",
   "mimetype": "text/x-python",
   "name": "python",
   "nbconvert_exporter": "python",
   "pygments_lexer": "ipython3",
   "version": "3.6.5"
  }
 },
 "nbformat": 4,
 "nbformat_minor": 2
}
