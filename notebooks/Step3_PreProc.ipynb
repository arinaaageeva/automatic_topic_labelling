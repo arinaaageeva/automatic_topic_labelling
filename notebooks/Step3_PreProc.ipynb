{
 "cells": [
  {
   "cell_type": "code",
   "execution_count": 1,
   "metadata": {},
   "outputs": [
    {
     "name": "stderr",
     "output_type": "stream",
     "text": [
      "Using TensorFlow backend.\n"
     ]
    }
   ],
   "source": [
    "import sys\n",
    "import artm\n",
    "import warnings\n",
    "import wikipedia\n",
    "import pandas as pd\n",
    "import seaborn as sns\n",
    "import matplotlib.pyplot as plt\n",
    "\n",
    "sys.path.append('../src')\n",
    "sns.set(style=\"whitegrid\")\n",
    "warnings.simplefilter('ignore')\n",
    "\n",
    "from preprocessing import *\n",
    "from itertools import chain\n",
    "from collections import Counter\n",
    "from sklearn.preprocessing import LabelEncoder\n",
    "from sklearn.pipeline import Pipeline as sklearn_pipeline"
   ]
  },
  {
   "cell_type": "code",
   "execution_count": 3,
   "metadata": {
    "collapsed": true,
    "jupyter": {
     "outputs_hidden": true
    }
   },
   "outputs": [
    {
     "name": "stderr",
     "output_type": "stream",
     "text": [
      "2019-09-19 14:49:33.424 INFO in 'deeppavlov.core.data.simple_vocab'['simple_vocab'] at line 112: [loading vocabulary from /home/arina/.deeppavlov/models/ner_rus_bert/tag.dict]\n",
      "I0919 14:49:33.424466 139841586935616 simple_vocab.py:112] [loading vocabulary from /home/arina/.deeppavlov/models/ner_rus_bert/tag.dict]\n",
      "2019-09-19 14:49:45.558 INFO in 'deeppavlov.core.models.tf_model'['tf_model'] at line 52: [loading model from /home/arina/.deeppavlov/models/ner_rus_bert/model]\n",
      "I0919 14:49:45.558924 139841586935616 tf_model.py:52] [loading model from /home/arina/.deeppavlov/models/ner_rus_bert/model]\n"
     ]
    },
    {
     "name": "stdout",
     "output_type": "stream",
     "text": [
      "Transform titles\n",
      "ReplaceChar\n"
     ]
    },
    {
     "name": "stderr",
     "output_type": "stream",
     "text": [
      "100%|██████████| 11127/11127 [00:00<00:00, 184706.68it/s]\n"
     ]
    },
    {
     "name": "stdout",
     "output_type": "stream",
     "text": [
      "RegExprSub\n"
     ]
    },
    {
     "name": "stderr",
     "output_type": "stream",
     "text": [
      "100%|██████████| 11127/11127 [00:00<00:00, 987683.50it/s]\n"
     ]
    },
    {
     "name": "stdout",
     "output_type": "stream",
     "text": [
      "RegExprSub\n"
     ]
    },
    {
     "name": "stderr",
     "output_type": "stream",
     "text": [
      "100%|██████████| 11127/11127 [00:00<00:00, 964615.37it/s]\n"
     ]
    },
    {
     "name": "stdout",
     "output_type": "stream",
     "text": [
      "RegExprSub\n"
     ]
    },
    {
     "name": "stderr",
     "output_type": "stream",
     "text": [
      "100%|██████████| 11127/11127 [00:00<00:00, 539450.50it/s]\n"
     ]
    },
    {
     "name": "stdout",
     "output_type": "stream",
     "text": [
      "RegExprSub\n"
     ]
    },
    {
     "name": "stderr",
     "output_type": "stream",
     "text": [
      "100%|██████████| 11127/11127 [00:00<00:00, 961178.47it/s]\n"
     ]
    },
    {
     "name": "stdout",
     "output_type": "stream",
     "text": [
      "RegExprSub\n"
     ]
    },
    {
     "name": "stderr",
     "output_type": "stream",
     "text": [
      "100%|██████████| 11127/11127 [00:00<00:00, 1010698.64it/s]\n"
     ]
    },
    {
     "name": "stdout",
     "output_type": "stream",
     "text": [
      "RegExprSub\n"
     ]
    },
    {
     "name": "stderr",
     "output_type": "stream",
     "text": [
      "100%|██████████| 11127/11127 [00:00<00:00, 1002319.93it/s]\n"
     ]
    },
    {
     "name": "stdout",
     "output_type": "stream",
     "text": [
      "RegExprSub\n"
     ]
    },
    {
     "name": "stderr",
     "output_type": "stream",
     "text": [
      "100%|██████████| 11127/11127 [00:00<00:00, 1028200.50it/s]\n"
     ]
    },
    {
     "name": "stdout",
     "output_type": "stream",
     "text": [
      "ReplacePart\n"
     ]
    },
    {
     "name": "stderr",
     "output_type": "stream",
     "text": [
      "100%|██████████| 11127/11127 [00:00<00:00, 575108.08it/s]\n"
     ]
    },
    {
     "name": "stdout",
     "output_type": "stream",
     "text": [
      "ReplacePart\n"
     ]
    },
    {
     "name": "stderr",
     "output_type": "stream",
     "text": [
      "100%|██████████| 11127/11127 [00:00<00:00, 1015271.94it/s]\n"
     ]
    },
    {
     "name": "stdout",
     "output_type": "stream",
     "text": [
      "RegExprSub\n"
     ]
    },
    {
     "name": "stderr",
     "output_type": "stream",
     "text": [
      "100%|██████████| 11127/11127 [00:00<00:00, 269996.76it/s]\n"
     ]
    },
    {
     "name": "stdout",
     "output_type": "stream",
     "text": [
      "Strip\n"
     ]
    },
    {
     "name": "stderr",
     "output_type": "stream",
     "text": [
      "100%|██████████| 11127/11127 [00:00<00:00, 1214953.81it/s]\n"
     ]
    },
    {
     "name": "stdout",
     "output_type": "stream",
     "text": [
      "RusSentTokenizer\n"
     ]
    },
    {
     "name": "stderr",
     "output_type": "stream",
     "text": [
      "100%|██████████| 11127/11127 [00:00<00:00, 49151.90it/s]\n"
     ]
    },
    {
     "name": "stdout",
     "output_type": "stream",
     "text": [
      "RusWordTokenizer_NER\n"
     ]
    },
    {
     "name": "stderr",
     "output_type": "stream",
     "text": [
      "100%|██████████| 11127/11127 [04:14<00:00, 43.73it/s]\n"
     ]
    },
    {
     "name": "stdout",
     "output_type": "stream",
     "text": [
      "SpaceDetecter\n"
     ]
    },
    {
     "name": "stderr",
     "output_type": "stream",
     "text": [
      "100%|██████████| 11127/11127 [00:00<00:00, 65542.99it/s]\n"
     ]
    },
    {
     "name": "stdout",
     "output_type": "stream",
     "text": [
      "JoinByChar\n"
     ]
    },
    {
     "name": "stderr",
     "output_type": "stream",
     "text": [
      "100%|██████████| 11127/11127 [00:00<00:00, 80276.21it/s]\n"
     ]
    },
    {
     "name": "stdout",
     "output_type": "stream",
     "text": [
      "MorphPredictor\n"
     ]
    },
    {
     "name": "stderr",
     "output_type": "stream",
     "text": [
      "100%|██████████| 11127/11127 [01:30<00:00, 122.56it/s]\n"
     ]
    },
    {
     "name": "stdout",
     "output_type": "stream",
     "text": [
      "CoNLLUFormatEncoder\n"
     ]
    },
    {
     "name": "stderr",
     "output_type": "stream",
     "text": [
      "100%|██████████| 11127/11127 [00:00<00:00, 50185.25it/s]\n"
     ]
    },
    {
     "name": "stdout",
     "output_type": "stream",
     "text": [
      "SyntaxParser\n"
     ]
    },
    {
     "name": "stderr",
     "output_type": "stream",
     "text": [
      "100%|██████████| 11127/11127 [00:13<00:00, 802.61it/s]\n"
     ]
    },
    {
     "name": "stdout",
     "output_type": "stream",
     "text": [
      "Transform texts\n",
      "ReplaceChar\n"
     ]
    },
    {
     "name": "stderr",
     "output_type": "stream",
     "text": [
      "100%|██████████| 11127/11127 [00:00<00:00, 65654.84it/s]\n"
     ]
    },
    {
     "name": "stdout",
     "output_type": "stream",
     "text": [
      "RegExprSub\n"
     ]
    },
    {
     "name": "stderr",
     "output_type": "stream",
     "text": [
      "100%|██████████| 11127/11127 [00:00<00:00, 625192.84it/s]\n"
     ]
    },
    {
     "name": "stdout",
     "output_type": "stream",
     "text": [
      "RegExprSub\n"
     ]
    },
    {
     "name": "stderr",
     "output_type": "stream",
     "text": [
      "100%|██████████| 11127/11127 [00:00<00:00, 625595.11it/s]\n"
     ]
    },
    {
     "name": "stdout",
     "output_type": "stream",
     "text": [
      "RegExprSub\n"
     ]
    },
    {
     "name": "stderr",
     "output_type": "stream",
     "text": [
      "100%|██████████| 11127/11127 [00:00<00:00, 65257.88it/s]\n"
     ]
    },
    {
     "name": "stdout",
     "output_type": "stream",
     "text": [
      "RegExprSub\n"
     ]
    },
    {
     "name": "stderr",
     "output_type": "stream",
     "text": [
      "100%|██████████| 11127/11127 [00:00<00:00, 660393.67it/s]\n"
     ]
    },
    {
     "name": "stdout",
     "output_type": "stream",
     "text": [
      "RegExprSub\n"
     ]
    },
    {
     "name": "stderr",
     "output_type": "stream",
     "text": [
      "100%|██████████| 11127/11127 [00:00<00:00, 690497.28it/s]\n"
     ]
    },
    {
     "name": "stdout",
     "output_type": "stream",
     "text": [
      "RegExprSub\n"
     ]
    },
    {
     "name": "stderr",
     "output_type": "stream",
     "text": [
      "100%|██████████| 11127/11127 [00:00<00:00, 628366.28it/s]\n"
     ]
    },
    {
     "name": "stdout",
     "output_type": "stream",
     "text": [
      "RegExprSub\n"
     ]
    },
    {
     "name": "stderr",
     "output_type": "stream",
     "text": [
      "100%|██████████| 11127/11127 [00:00<00:00, 614362.15it/s]\n"
     ]
    },
    {
     "name": "stdout",
     "output_type": "stream",
     "text": [
      "ReplacePart\n"
     ]
    },
    {
     "name": "stderr",
     "output_type": "stream",
     "text": [
      "100%|██████████| 11127/11127 [00:00<00:00, 20021.91it/s]\n"
     ]
    },
    {
     "name": "stdout",
     "output_type": "stream",
     "text": [
      "ReplacePart\n"
     ]
    },
    {
     "name": "stderr",
     "output_type": "stream",
     "text": [
      "100%|██████████| 11127/11127 [00:00<00:00, 481441.96it/s]\n"
     ]
    },
    {
     "name": "stdout",
     "output_type": "stream",
     "text": [
      "RegExprSub\n"
     ]
    },
    {
     "name": "stderr",
     "output_type": "stream",
     "text": [
      "100%|██████████| 11127/11127 [00:00<00:00, 24606.05it/s]\n"
     ]
    },
    {
     "name": "stdout",
     "output_type": "stream",
     "text": [
      "Strip\n"
     ]
    },
    {
     "name": "stderr",
     "output_type": "stream",
     "text": [
      "100%|██████████| 11127/11127 [00:00<00:00, 834704.90it/s]\n"
     ]
    },
    {
     "name": "stdout",
     "output_type": "stream",
     "text": [
      "RusSentTokenizer\n"
     ]
    },
    {
     "name": "stderr",
     "output_type": "stream",
     "text": [
      "100%|██████████| 11127/11127 [00:03<00:00, 3046.42it/s]\n"
     ]
    },
    {
     "name": "stdout",
     "output_type": "stream",
     "text": [
      "RusWordTokenizer_NER\n"
     ]
    },
    {
     "name": "stderr",
     "output_type": "stream",
     "text": [
      "100%|██████████| 11127/11127 [44:47<00:00,  4.14it/s] \n"
     ]
    },
    {
     "name": "stdout",
     "output_type": "stream",
     "text": [
      "SpaceDetecter\n"
     ]
    },
    {
     "name": "stderr",
     "output_type": "stream",
     "text": [
      "100%|██████████| 11127/11127 [00:03<00:00, 2992.54it/s]\n"
     ]
    },
    {
     "name": "stdout",
     "output_type": "stream",
     "text": [
      "JoinByChar\n"
     ]
    },
    {
     "name": "stderr",
     "output_type": "stream",
     "text": [
      "100%|██████████| 11127/11127 [00:03<00:00, 3311.39it/s]\n"
     ]
    },
    {
     "name": "stdout",
     "output_type": "stream",
     "text": [
      "MorphPredictor\n"
     ]
    },
    {
     "name": "stderr",
     "output_type": "stream",
     "text": [
      "100%|██████████| 11127/11127 [25:40<00:00, 11.02it/s] \n"
     ]
    },
    {
     "name": "stdout",
     "output_type": "stream",
     "text": [
      "CoNLLUFormatEncoder\n"
     ]
    },
    {
     "name": "stderr",
     "output_type": "stream",
     "text": [
      "100%|██████████| 11127/11127 [00:04<00:00, 2735.83it/s]\n"
     ]
    },
    {
     "name": "stdout",
     "output_type": "stream",
     "text": [
      "SyntaxParser\n"
     ]
    },
    {
     "name": "stderr",
     "output_type": "stream",
     "text": [
      "100%|██████████| 11127/11127 [05:42<00:00, 32.48it/s]\n"
     ]
    }
   ],
   "source": [
    "chars_map = {'\\xad': ' ',\n",
    "             '«': '\"', '»': '\"', '”': '\"', '“': '\"', '„': '\"', '&ldquo;':'\"', '&rdquo;':'\"', '&bdquo;':'\"',\n",
    "             '\\'': '', '’': '', '‘': '', '`': '', \n",
    "             '*': '', '_': '', '©': '' , '[': '', ']': '', '\\\\':'',\n",
    "             '––':'-', '&minus;':' - ', '&dash;':' - ',\n",
    "             '…': '... ', '&hellip;':'... ',\n",
    "             'тыс.': 'тыс. ', 'кв.': 'кв. ', 'куб.': 'куб. ',\n",
    "             'прим.': 'прим. ', 'Прим.': 'Прим.', 'зам.': 'зам. ',\n",
    "             'Теги ФК Динамо Москва Самба Соу //-->':'', '!function(e) (window);':''}\n",
    "\n",
    "\n",
    "pipeline = sklearn_pipeline([('replace_chars', ReplaceChar(chars_map)),\n",
    "                             ('sub_code', RegExprSub(r'\\{.*\\}', ' ')),\n",
    "                             ('sub_link', RegExprSub(r'https{0,1}://[^ ]*', ' ')),\n",
    "                             ('sub_twit_link', RegExprSub(r'\\({0,1}@[^\\(\\) ]*\\){0,1}', ' ')),\n",
    "                             ('sub_html', RegExprSub(r'<[^<>]*>', ' ')),\n",
    "                             ('sub_sym_html', RegExprSub(r'&#{0,1}\\w+;', ' ')),\n",
    "                             ('sub_<a', RegExprSub(r'<a.*', ' ')),\n",
    "                             ('sub_round_brackets_without_words', RegExprSub(r'\\([^a-zA-Zа-яйёА-ЯЙЁ]+\\)', ' ')),\n",
    "                             ('replace_part_lower', ReplacePart(r'[а-яйё\"]\\.', lambda x: x.replace('.', '. '))),\n",
    "                             ('replace_part_upper', ReplacePart(r'\\.[А-ЯЁЙ\"]', lambda x: x.replace('.', '. '))),\n",
    "                             ('sub_spaces', RegExprSub(r'\\s+', ' ')),\n",
    "                             ('strip', Strip()),\n",
    "                             ('sent_tokenize', RusSentTokenizer()),\n",
    "                             ('ner_word_tokenize', RusWordTokenizer_NER()),\n",
    "                             ('space_detect', SpaceDetecter()),\n",
    "                             ('joiner_by_char', JoinByChar(chars_set={'-', ',', '.'})),\n",
    "                             ('morph_predict', MorphPredictor()),\n",
    "                             ('conllu_encode', CoNLLUFormatEncoder()),\n",
    "                             ('syntax_parse', SyntaxParser('../models/model_ner_rnn_morth'))])\n",
    "\n",
    "articles = pd.read_csv('../data/interim/articles_new.csv')[['id', 'title', 'text']]\n",
    "\n",
    "print('Transform titles')\n",
    "articles.title = pipeline.fit_transform(articles.title)\n",
    "\n",
    "print('Transform texts')\n",
    "articles.text = pipeline.fit_transform(articles.text)\n",
    "\n",
    "articles.to_csv('../data/interim/articles_preproc.csv', index=False)"
   ]
  },
  {
   "cell_type": "code",
   "execution_count": 11,
   "metadata": {},
   "outputs": [
    {
     "name": "stdout",
     "output_type": "stream",
     "text": [
      "CoNLLUFormatDecoder\n"
     ]
    },
    {
     "name": "stderr",
     "output_type": "stream",
     "text": [
      "100%|██████████| 11127/11127 [00:00<00:00, 35268.95it/s]\n"
     ]
    },
    {
     "name": "stdout",
     "output_type": "stream",
     "text": [
      "CoNLLUFormatDecoder\n"
     ]
    },
    {
     "name": "stderr",
     "output_type": "stream",
     "text": [
      "100%|██████████| 11127/11127 [00:07<00:00, 1511.35it/s]\n"
     ]
    },
    {
     "data": {
      "text/plain": [
       "<matplotlib.legend.Legend at 0x7f2a04504198>"
      ]
     },
     "execution_count": 11,
     "metadata": {},
     "output_type": "execute_result"
    },
    {
     "data": {
      "image/png": "[encoded data removed]",
      "text/plain": [
       "<Figure size 720x504 with 1 Axes>"
      ]
     },
     "metadata": {
      "needs_background": "light"
     },
     "output_type": "display_data"
    }
   ],
   "source": [
    "decoder = CoNLLUFormatDecoder()\n",
    "\n",
    "get_uposes = lambda x: Counter(chain(*[[token.upos for token in sent.tokens] for sent in chain(*x)])).items()\n",
    "\n",
    "articles = pd.read_csv('../data/interim/articles_preproc.csv')\n",
    "\n",
    "uposes_title = pd.DataFrame(get_uposes(decoder.transform(articles.title)), columns=['upos', 'count'])\n",
    "uposes_text = pd.DataFrame(get_uposes(decoder.transform(articles.text)), columns=['upos', 'count'])\n",
    "\n",
    "uposes = pd.merge(uposes_title, uposes_text, on='upos', suffixes=('_title', '_text'))\n",
    "\n",
    "figure, ax = plt.subplots(figsize=(10, 7))\n",
    "\n",
    "sns.set_color_codes('pastel')\n",
    "sns.barplot(x='count_text', y='upos', data=uposes, label='Texts', color='b')\n",
    "\n",
    "sns.set_color_codes('muted')\n",
    "sns.barplot(x='count_title', y='upos', data=uposes, label='Titles', color='b')\n",
    "\n",
    "ax.legend(ncol=2, loc='lower right', frameon=True)"
   ]
  },
  {
   "cell_type": "code",
   "execution_count": 2,
   "metadata": {},
   "outputs": [
    {
     "name": "stdout",
     "output_type": "stream",
     "text": [
      "CoNLLUFormatDecoder\n"
     ]
    },
    {
     "name": "stderr",
     "output_type": "stream",
     "text": [
      "100%|██████████| 11127/11127 [00:00<00:00, 26872.49it/s]\n"
     ]
    },
    {
     "name": "stdout",
     "output_type": "stream",
     "text": [
      "CoNLLUFormatDecoder\n"
     ]
    },
    {
     "name": "stderr",
     "output_type": "stream",
     "text": [
      "100%|██████████| 11127/11127 [00:07<00:00, 1495.41it/s]\n"
     ]
    },
    {
     "name": "stdout",
     "output_type": "stream",
     "text": [
      "VowpalWabbitFormatEncoder\n"
     ]
    },
    {
     "name": "stderr",
     "output_type": "stream",
     "text": [
      "100%|██████████| 11127/11127 [00:00<00:00, 113870.42it/s]\n"
     ]
    },
    {
     "name": "stdout",
     "output_type": "stream",
     "text": [
      "VowpalWabbitFormatEncoder\n"
     ]
    },
    {
     "name": "stderr",
     "output_type": "stream",
     "text": [
      "100%|██████████| 11127/11127 [00:00<00:00, 14834.42it/s]\n"
     ]
    },
    {
     "name": "stdout",
     "output_type": "stream",
     "text": [
      "Join_NER\n"
     ]
    },
    {
     "name": "stderr",
     "output_type": "stream",
     "text": [
      "100%|██████████| 11127/11127 [00:00<00:00, 53282.36it/s]\n"
     ]
    },
    {
     "name": "stdout",
     "output_type": "stream",
     "text": [
      "Join_NER\n"
     ]
    },
    {
     "name": "stderr",
     "output_type": "stream",
     "text": [
      "100%|██████████| 11127/11127 [00:04<00:00, 2516.72it/s]\n"
     ]
    },
    {
     "name": "stdout",
     "output_type": "stream",
     "text": [
      "VowpalWabbitFormatEncoder\n"
     ]
    },
    {
     "name": "stderr",
     "output_type": "stream",
     "text": [
      "100%|██████████| 11127/11127 [00:00<00:00, 57886.73it/s]\n"
     ]
    },
    {
     "name": "stdout",
     "output_type": "stream",
     "text": [
      "VowpalWabbitFormatEncoder\n"
     ]
    },
    {
     "name": "stderr",
     "output_type": "stream",
     "text": [
      "100%|██████████| 11127/11127 [00:01<00:00, 10835.44it/s]\n"
     ]
    }
   ],
   "source": [
    "upos_set = {'NOUN', 'VERB', 'ADJ', 'ADV'}\n",
    "\n",
    "articles = pd.read_csv('../data/interim/articles_preproc.csv')\n",
    "\n",
    "decoder = CoNLLUFormatDecoder()\n",
    "\n",
    "articles.title = decoder.transform(articles.title)\n",
    "articles.text = decoder.transform(articles.text)\n",
    "\n",
    "articles['title_vw'] = VowpalWabbitFormatEncoder(suffix='title_', upos_filt=True, upos_set=upos_set).transform(articles.title)\n",
    "articles['text_vw'] = VowpalWabbitFormatEncoder(suffix='text_', upos_filt=True, upos_set=upos_set).transform(articles.text)\n",
    "\n",
    "with open('../data/interim/articles_vw.txt', 'w') as fl:\n",
    "    fl.write('\\n'.join(articles[['id', 'title_vw', 'text_vw']].apply(lambda x: f'{x.id} {x.title_vw} {x.text_vw}', axis=1))+'\\n')\n",
    "    \n",
    "artm.BatchVectorizer(data_path='../data/interim/articles_vw.txt', data_format='vowpal_wabbit', target_folder='../data/interim/batches')\n",
    "\n",
    "articles.title = Join_NER().transform(articles.title)\n",
    "articles.text = Join_NER().transform(articles.text)\n",
    "\n",
    "articles['title_vw_split_ner'] = VowpalWabbitFormatEncoder(suffix='title_', upos_filt=True, upos_set=upos_set, split_ner=True).transform(articles.title)\n",
    "articles['text_vw_split_ner'] = VowpalWabbitFormatEncoder(suffix='text_', upos_filt=True, upos_set=upos_set, split_ner=True).transform(articles.text)\n",
    "\n",
    "with open('../data/interim/articles_vw_split_ner.txt', 'w') as fl:\n",
    "    fl.write('\\n'.join(articles[['id', 'title_vw_split_ner', 'text_vw_split_ner']].apply(lambda x: f'{x.id} {x.title_vw_split_ner} {x.text_vw_split_ner}', axis=1))+'\\n')\n",
    "    \n",
    "artm.BatchVectorizer(data_path='../data/interim/articles_vw_split_ner.txt', data_format='vowpal_wabbit', target_folder='../data/interim/batches_split_ner')\n",
    "\n",
    "articles.drop(['title', 'text'], axis=1).to_csv('../data/interim/articles_vw.csv', index=False)"
   ]
  },
  {
   "cell_type": "code",
   "execution_count": null,
   "metadata": {},
   "outputs": [],
   "source": []
  }
 ],
 "metadata": {
  "kernelspec": {
   "display_name": "Python 3",
   "language": "python",
   "name": "python3"
  },
  "language_info": {
   "codemirror_mode": {
    "name": "ipython",
    "version": 3
   },
   "file_extension": ".py",
   "mimetype": "text/x-python",
   "name": "python",
   "nbconvert_exporter": "python",
   "pygments_lexer": "ipython3",
   "version": "3.6.9"
  }
 },
 "nbformat": 4,
 "nbformat_minor": 4
}
