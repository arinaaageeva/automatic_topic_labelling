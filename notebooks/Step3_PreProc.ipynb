{
 "cells": [
  {
   "cell_type": "code",
   "execution_count": 2,
   "metadata": {},
   "outputs": [],
   "source": [
    "import sys\n",
    "\n",
    "import numpy as np\n",
    "import pandas as pd\n",
    "\n",
    "from tqdm import tqdm\n",
    "tqdm.pandas()\n",
    "\n",
    "from nltk import sent_tokenize\n",
    "from nltk.tokenize.toktok import ToktokTokenizer\n",
    "from rnnmorph.predictor import RNNMorphPredictor\n",
    "from ufal.udpipe import Model, Pipeline, ProcessingError\n",
    "\n",
    "sys.path.append('../src')\n",
    "from encode import *"
   ]
  },
  {
   "cell_type": "code",
   "execution_count": 3,
   "metadata": {},
   "outputs": [
    {
     "data": {
      "text/html": [
       "<div>\n",
       "<style scoped>\n",
       "    .dataframe tbody tr th:only-of-type {\n",
       "        vertical-align: middle;\n",
       "    }\n",
       "\n",
       "    .dataframe tbody tr th {\n",
       "        vertical-align: top;\n",
       "    }\n",
       "\n",
       "    .dataframe thead th {\n",
       "        text-align: right;\n",
       "    }\n",
       "</style>\n",
       "<table border=\"1\" class=\"dataframe\">\n",
       "  <thead>\n",
       "    <tr style=\"text-align: right;\">\n",
       "      <th></th>\n",
       "      <th>id</th>\n",
       "      <th>hr_level_0</th>\n",
       "      <th>hr_level_1</th>\n",
       "      <th>hr_level_2</th>\n",
       "      <th>hr_level_3</th>\n",
       "      <th>hr_level_4</th>\n",
       "      <th>publication</th>\n",
       "      <th>time</th>\n",
       "      <th>title</th>\n",
       "      <th>snippet</th>\n",
       "      <th>text</th>\n",
       "    </tr>\n",
       "  </thead>\n",
       "  <tbody>\n",
       "    <tr>\n",
       "      <th>0</th>\n",
       "      <td>0</td>\n",
       "      <td>0</td>\n",
       "      <td>0</td>\n",
       "      <td>NaN</td>\n",
       "      <td>152.0</td>\n",
       "      <td>NaN</td>\n",
       "      <td>Финмаркет</td>\n",
       "      <td>2018-03-29T14:13:00</td>\n",
       "      <td>В этом году на льготные автокредиты и лизинг б...</td>\n",
       "      <td>FINMARKET.RU - Премьер России Дмитрий Медведев...</td>\n",
       "      <td>В этом году на льготные автокредиты и лизинг б...</td>\n",
       "    </tr>\n",
       "    <tr>\n",
       "      <th>1</th>\n",
       "      <td>1</td>\n",
       "      <td>0</td>\n",
       "      <td>0</td>\n",
       "      <td>NaN</td>\n",
       "      <td>152.0</td>\n",
       "      <td>NaN</td>\n",
       "      <td>ТАСС</td>\n",
       "      <td>2018-03-29T14:16:00</td>\n",
       "      <td>Медведев: около 50 тыс. машин продадут в 2018 ...</td>\n",
       "      <td>Около 50 тыс. автомашин будет продано в текуще...</td>\n",
       "      <td>Около 50 тыс. автомашин будет продано в текуще...</td>\n",
       "    </tr>\n",
       "    <tr>\n",
       "      <th>2</th>\n",
       "      <td>2</td>\n",
       "      <td>0</td>\n",
       "      <td>0</td>\n",
       "      <td>NaN</td>\n",
       "      <td>152.0</td>\n",
       "      <td>NaN</td>\n",
       "      <td>Российская газета</td>\n",
       "      <td>2018-03-29T14:30:00</td>\n",
       "      <td>Кабмин выделит 7 миллиардов рублей на льготное...</td>\n",
       "      <td>Правительство выделяет 7 миллиардов рублей на ...</td>\n",
       "      <td>Названы ставки по ипотеке и автокредитам в 201...</td>\n",
       "    </tr>\n",
       "    <tr>\n",
       "      <th>3</th>\n",
       "      <td>3</td>\n",
       "      <td>0</td>\n",
       "      <td>0</td>\n",
       "      <td>NaN</td>\n",
       "      <td>152.0</td>\n",
       "      <td>NaN</td>\n",
       "      <td>Телеканал 360°</td>\n",
       "      <td>2018-03-29T14:43:00</td>\n",
       "      <td>Правительство РФ выделит порядка 7 млрд на льг...</td>\n",
       "      <td>Из указанной суммы около семи миллиардов напра...</td>\n",
       "      <td>Правительством России предусмотрено свыше 12 м...</td>\n",
       "    </tr>\n",
       "    <tr>\n",
       "      <th>4</th>\n",
       "      <td>4</td>\n",
       "      <td>0</td>\n",
       "      <td>0</td>\n",
       "      <td>NaN</td>\n",
       "      <td>152.0</td>\n",
       "      <td>NaN</td>\n",
       "      <td>Интерфакс</td>\n",
       "      <td>2018-03-29T15:38:00</td>\n",
       "      <td>Правительство выделит в 2018 г. около 7 млрд р...</td>\n",
       "      <td>Правительство РФ выделит в 2018 году около 7 м...</td>\n",
       "      <td>Правительство РФ выделит в 2018 году около 7 м...</td>\n",
       "    </tr>\n",
       "  </tbody>\n",
       "</table>\n",
       "</div>"
      ],
      "text/plain": [
       "   id  hr_level_0  hr_level_1  hr_level_2  hr_level_3  hr_level_4  \\\n",
       "0   0           0           0         NaN       152.0         NaN   \n",
       "1   1           0           0         NaN       152.0         NaN   \n",
       "2   2           0           0         NaN       152.0         NaN   \n",
       "3   3           0           0         NaN       152.0         NaN   \n",
       "4   4           0           0         NaN       152.0         NaN   \n",
       "\n",
       "         publication                 time  \\\n",
       "0          Финмаркет  2018-03-29T14:13:00   \n",
       "1               ТАСС  2018-03-29T14:16:00   \n",
       "2  Российская газета  2018-03-29T14:30:00   \n",
       "3     Телеканал 360°  2018-03-29T14:43:00   \n",
       "4          Интерфакс  2018-03-29T15:38:00   \n",
       "\n",
       "                                               title  \\\n",
       "0  В этом году на льготные автокредиты и лизинг б...   \n",
       "1  Медведев: около 50 тыс. машин продадут в 2018 ...   \n",
       "2  Кабмин выделит 7 миллиардов рублей на льготное...   \n",
       "3  Правительство РФ выделит порядка 7 млрд на льг...   \n",
       "4  Правительство выделит в 2018 г. около 7 млрд р...   \n",
       "\n",
       "                                             snippet  \\\n",
       "0  FINMARKET.RU - Премьер России Дмитрий Медведев...   \n",
       "1  Около 50 тыс. автомашин будет продано в текуще...   \n",
       "2  Правительство выделяет 7 миллиардов рублей на ...   \n",
       "3  Из указанной суммы около семи миллиардов напра...   \n",
       "4  Правительство РФ выделит в 2018 году около 7 м...   \n",
       "\n",
       "                                                text  \n",
       "0  В этом году на льготные автокредиты и лизинг б...  \n",
       "1  Около 50 тыс. автомашин будет продано в текуще...  \n",
       "2  Названы ставки по ипотеке и автокредитам в 201...  \n",
       "3  Правительством России предусмотрено свыше 12 м...  \n",
       "4  Правительство РФ выделит в 2018 году около 7 м...  "
      ]
     },
     "execution_count": 3,
     "metadata": {},
     "output_type": "execute_result"
    }
   ],
   "source": [
    "articles = pd.read_csv('../data/interim/articles.csv')\n",
    "articles.head()"
   ]
  },
  {
   "cell_type": "markdown",
   "metadata": {},
   "source": [
    "#### Разбиение на предложения\n",
    "\n",
    "Используем nltk.tokenize.sent_tokenize и модель для русского языкак https://github.com/Mottl/ru_punkt"
   ]
  },
  {
   "cell_type": "code",
   "execution_count": 4,
   "metadata": {},
   "outputs": [
    {
     "name": "stderr",
     "output_type": "stream",
     "text": [
      "100%|██████████| 11127/11127 [00:00<00:00, 42221.82it/s]\n",
      "100%|██████████| 11127/11127 [00:01<00:00, 8863.57it/s]\n",
      "100%|██████████| 11127/11127 [00:04<00:00, 2634.34it/s]\n"
     ]
    }
   ],
   "source": [
    "sent_tokenizer = lambda text: sent_tokenize(text, language='russian')\n",
    "\n",
    "articles['title_sents'] = articles.title.progress_apply(sent_tokenizer)\n",
    "articles['snippet_sents'] = articles.snippet.progress_apply(sent_tokenizer)\n",
    "articles['text_sents'] = articles.text.progress_apply(sent_tokenizer)\n",
    "\n",
    "articles['title_preproc'] = articles.title_sents\n",
    "articles['snippet_preproc'] = articles.snippet_sents\n",
    "articles['text_preproc'] = articles.text_sents"
   ]
  },
  {
   "cell_type": "markdown",
   "metadata": {},
   "source": [
    "#### Разбиение на токены\n",
    "\n",
    "Используем nltk.tokenize.toktok.ToktokTokenizer"
   ]
  },
  {
   "cell_type": "code",
   "execution_count": 5,
   "metadata": {},
   "outputs": [
    {
     "name": "stderr",
     "output_type": "stream",
     "text": [
      "100%|██████████| 11127/11127 [00:00<00:00, 34070.81it/s]\n",
      "100%|██████████| 11127/11127 [00:01<00:00, 5719.32it/s]\n",
      "100%|██████████| 11127/11127 [00:06<00:00, 1734.47it/s]\n"
     ]
    }
   ],
   "source": [
    "toktok = ToktokTokenizer()\n",
    "word_tokenizer = lambda text: [toktok.tokenize(sent) for sent in text]\n",
    "\n",
    "articles.title_preproc = articles.title_preproc.progress_apply(word_tokenizer)\n",
    "articles.snippet_preproc = articles.snippet_preproc.progress_apply(word_tokenizer)\n",
    "articles.text_preproc = articles.text_preproc.progress_apply(word_tokenizer)"
   ]
  },
  {
   "cell_type": "markdown",
   "metadata": {},
   "source": [
    "#### Морфологический анализ\n",
    "\n",
    "Используем RNNMorph"
   ]
  },
  {
   "cell_type": "code",
   "execution_count": 6,
   "metadata": {},
   "outputs": [
    {
     "name": "stderr",
     "output_type": "stream",
     "text": [
      "100%|██████████| 11127/11127 [04:20<00:00, 42.64it/s]\n",
      "100%|██████████| 11127/11127 [12:17<00:00, 15.09it/s]\n",
      "100%|██████████| 11127/11127 [29:16<00:00,  6.33it/s]\n"
     ]
    }
   ],
   "source": [
    "rnnmorph = RNNMorphPredictor(language='ru')\n",
    "morph_predictor = rnnmorph.predict_sentences\n",
    "\n",
    "articles.title_preproc = articles.title_preproc.progress_apply(morph_predictor)\n",
    "articles.snippet_preproc = articles.snippet_preproc.progress_apply(morph_predictor)\n",
    "articles.text_preproc = articles.text_preproc.progress_apply(morph_predictor)"
   ]
  },
  {
   "cell_type": "markdown",
   "metadata": {},
   "source": [
    "#### Построение синтаксического дерева для каждого предложения\n",
    "\n",
    "Используем UDPipe"
   ]
  },
  {
   "cell_type": "code",
   "execution_count": 7,
   "metadata": {},
   "outputs": [
    {
     "name": "stderr",
     "output_type": "stream",
     "text": [
      "100%|██████████| 11127/11127 [00:15<00:00, 731.74it/s]\n",
      "100%|██████████| 11127/11127 [01:28<00:00, 125.97it/s]\n",
      "100%|██████████| 11127/11127 [07:26<00:00, 34.43it/s]\n"
     ]
    }
   ],
   "source": [
    "articles.title_preproc = articles[['title_sents', 'title_preproc']].apply(lambda x: zip(*x), axis=1)\n",
    "articles.title_preproc = articles.title_preproc.apply(rnnmorph_encoder).apply(conllu_decoder)\n",
    "articles = articles.drop(columns=['title_sents'])\n",
    "\n",
    "articles.snippet_preproc = articles[['snippet_sents', 'snippet_preproc']].apply(lambda x: zip(*x), axis=1)\n",
    "articles.snippet_preproc = articles.snippet_preproc.apply(rnnmorph_encoder).apply(conllu_decoder)\n",
    "articles = articles.drop(columns=['snippet_sents'])\n",
    "\n",
    "articles.text_preproc = articles[['text_sents', 'text_preproc']].apply(lambda x: zip(*x), axis=1)\n",
    "articles.text_preproc = articles.text_preproc.apply(rnnmorph_encoder).apply(conllu_decoder)\n",
    "articles = articles.drop(columns=['text_sents'])\n",
    "\n",
    "parser_model = Model.load('../models/parser_model.udpipe')\n",
    "parser_pipeline = Pipeline(parser_model, 'conllu', Pipeline.NONE, Pipeline.DEFAULT, 'conllu')\n",
    "syntax_parser = lambda x: parser_pipeline.process(x, ProcessingError())\n",
    "\n",
    "articles.title_preproc = articles.title_preproc.progress_apply(syntax_parser)\n",
    "articles.snippet_preproc = articles.snippet_preproc.progress_apply(syntax_parser)\n",
    "articles.text_preproc = articles.text_preproc.progress_apply(syntax_parser)\n",
    "\n",
    "articles.to_csv('../data/interim/articles_preproc.csv', index=False)"
   ]
  },
  {
   "cell_type": "markdown",
   "metadata": {},
   "source": [
    "Сделано по мотивам https://habr.com/company/sberbank/blog/418701/"
   ]
  }
 ],
 "metadata": {
  "kernelspec": {
   "display_name": "Python 3",
   "language": "python",
   "name": "python3"
  },
  "language_info": {
   "codemirror_mode": {
    "name": "ipython",
    "version": 3
   },
   "file_extension": ".py",
   "mimetype": "text/x-python",
   "name": "python",
   "nbconvert_exporter": "python",
   "pygments_lexer": "ipython3",
   "version": "3.6.5"
  }
 },
 "nbformat": 4,
 "nbformat_minor": 2
}
