{
 "cells": [
  {
   "cell_type": "code",
   "execution_count": 4,
   "metadata": {},
   "outputs": [],
   "source": [
    "import re\n",
    "import sys\n",
    "\n",
    "import numpy as np\n",
    "import pandas as pd\n",
    "import seaborn as sns\n",
    "import matplotlib.pyplot as plt\n",
    "\n",
    "from itertools import chain\n",
    "from collections import Counter\n",
    "\n",
    "from tqdm import tqdm\n",
    "tqdm.pandas()\n",
    "\n",
    "from sklearn.preprocessing import LabelEncoder\n",
    "\n",
    "sys.path.append('../src')\n",
    "from encode import *\n",
    "from label_candidates_extract import LabelCandidatesExtracter"
   ]
  },
  {
   "cell_type": "markdown",
   "metadata": {},
   "source": [
    "### Обучающая выборка\n",
    "\n",
    "Для \"обучения\" алгоритма TopMine, т.е. для подсчёта частотности чанков на шаге Frequent Phrase Mining, формируем список предложений извлечённых из заголовков и текстов."
   ]
  },
  {
   "cell_type": "code",
   "execution_count": 5,
   "metadata": {},
   "outputs": [],
   "source": [
    "articles = pd.read_csv('../data/interim/articles_preproc.csv')\n",
    "\n",
    "articles.title_preproc = articles.title_preproc.apply(conllu_encoder)\n",
    "articles.text_preproc = articles.text_preproc.apply(conllu_encoder)\n",
    "\n",
    "sentences = list(chain(*articles.title_preproc))+list(chain(*articles.text_preproc))"
   ]
  },
  {
   "cell_type": "code",
   "execution_count": 6,
   "metadata": {},
   "outputs": [
    {
     "data": {
      "image/png": "[encoded data removed]",
      "text/plain": [
       "<Figure size 432x288 with 1 Axes>"
      ]
     },
     "metadata": {},
     "output_type": "display_data"
    }
   ],
   "source": [
    "len_titles = articles.title_preproc.apply(lambda x: len(list(chain(*[sent.tokens for sent in x]))))\n",
    "\n",
    "plt.figure()\n",
    "plt.hist(len_titles, bins=100)\n",
    "plt.xlabel('Number tokens in sentences (titles)')\n",
    "plt.ylabel('Number sentences')\n",
    "plt.show()"
   ]
  },
  {
   "cell_type": "markdown",
   "metadata": {},
   "source": [
    "Видим, что заголовки не содердат более 25 слов. Поэтому ограничем длину кандидата в заголовок 50 словами."
   ]
  },
  {
   "cell_type": "code",
   "execution_count": 7,
   "metadata": {},
   "outputs": [
    {
     "name": "stderr",
     "output_type": "stream",
     "text": [
      "100%|██████████| 25/25 [00:18<00:00,  7.72it/s]\n"
     ]
    }
   ],
   "source": [
    "lce = LabelCandidatesExtracter(min_count=3, max_len=25).fit(sentences)\n",
    "lce.dump('../models/label_candidates_extracter')"
   ]
  },
  {
   "cell_type": "markdown",
   "metadata": {},
   "source": [
    "### Выделение кандидатов в заголовках и текстах статей\n",
    "\n",
    "Сформируем таблицу candidates.csv кандидатов в заголовки:\n",
    "\n",
    "* **article_id** - идентификатор новостной статьи\n",
    "* **part** - часть статьи ('title', 'text')\n",
    "* **sent_id** - идентификатор предложения\n",
    "* **sent_n** - количество предложений в тексте\n",
    "* **sent_len** - количество слов в предложении\n",
    "* **begin_index** - индекс, с которого начинается фраза в предложении \n",
    "* **end_index** - индекс, которым заканчивается фраза в предложении\n",
    "* **form_id** - идентификатор кандидата (слова в изначальной грамматической форме)\n",
    "* **lemma_id** - идентификатор кандидата (слова в нормальной грамматической форме)\n",
    "* **poses** - части речи\n",
    "* **tags** - морфологические разборы слов\n",
    "* **head** - синтаксические связи\n",
    "* **sig** - sig из TopMine\n",
    "\n",
    "Также будут таблицы candidate_forms.csv и candidate_lemmas.csv, в которых храняться соответсвующие фразы и их идентификаторы."
   ]
  },
  {
   "cell_type": "code",
   "execution_count": 8,
   "metadata": {},
   "outputs": [
    {
     "name": "stderr",
     "output_type": "stream",
     "text": [
      "11127it [00:52, 211.87it/s]\n"
     ]
    },
    {
     "name": "stdout",
     "output_type": "stream",
     "text": [
      "Всего в корпусе было выделенно 759854 фраз\n",
      "Уникальных фраз 181439\n",
      "После лемматизации уникальных фраз стало 116641\n"
     ]
    }
   ],
   "source": [
    "candidates = []\n",
    "lce = LabelCandidatesExtracter().load('../models/label_candidates_extracter')\n",
    "\n",
    "for _, article in tqdm(articles.iterrows()):\n",
    "    \n",
    "    for part in ['title', 'text']:\n",
    "        \n",
    "        sentences =  article[part+'_preproc']\n",
    "        sent_n = len(sentences)\n",
    "        \n",
    "        for sentence in sentences:\n",
    "            \n",
    "            tokens = sentence.tokens\n",
    "            sent_len = len(tokens)\n",
    "            \n",
    "            for begin, end, sig in lce.transform(sentence):\n",
    "            \n",
    "                candidate = tokens[begin:end]\n",
    "                \n",
    "                #не рассматриваем словосочетания начинающиеся и заканчивающиеся пунктуацией\n",
    "                if candidate[0].pos == 'PUNCT' or candidate[-1].pos == 'PUNCT':\n",
    "                    continue\n",
    "                    \n",
    "                lemma = ''.join([token.lemma+' '*token.space for token in candidate]).strip()\n",
    "                \n",
    "                form = ''.join([token.token+' '*token.space for token in candidate]).strip()\n",
    "                form = form[0].upper()+form[1:]\n",
    "                \n",
    "                poses, tags, heads = zip(*[(token.pos, token.tag, token.head) for token in candidate])\n",
    "                candidates.append((article.id, part, sentence.id, sent_n, sent_len, \n",
    "                                   begin, end, form, lemma, list(poses), list(tags), list(heads), sig))\n",
    "                \n",
    "columns = ['article_id', 'part', 'sent_id', 'sent_n', 'sent_len', \n",
    "           'begin_index', 'end_index', 'form_id', 'lemma_id', \n",
    "           'poses', 'tags', 'heads', 'sig']\n",
    "\n",
    "candidates = pd.DataFrame(candidates, columns=columns)\n",
    "\n",
    "#формируем список кандидатов\n",
    "label_encoder = LabelEncoder().fit(candidates.form_id)\n",
    "candidates.form_id = label_encoder.transform(candidates.form_id)\n",
    "\n",
    "candidate_forms = label_encoder.classes_\n",
    "candidate_forms = pd.DataFrame({'id':range(len(candidate_forms)), 'candidate':candidate_forms})\n",
    "\n",
    "candidate_forms.to_csv('../data/interim/candidate_forms.csv', index=False)\n",
    "\n",
    "#формируем список лемм кандидатов\n",
    "label_encoder = LabelEncoder().fit(candidates.lemma_id)\n",
    "candidates.lemma_id = label_encoder.transform(candidates.lemma_id)\n",
    "\n",
    "candidate_lemmas = label_encoder.classes_\n",
    "candidate_lemmas = pd.DataFrame({'id':range(len(candidate_lemmas)), 'candidate':candidate_lemmas})\n",
    "\n",
    "candidate_lemmas.to_csv('../data/interim/candidate_lemmas.csv', index=False)\n",
    "\n",
    "candidates.to_pickle('../data/interim/candidates.pkl')\n",
    "\n",
    "print(f'Всего в корпусе было выделенно {len(candidates)} фраз')\n",
    "print(f'Уникальных фраз {len(candidate_forms)}')\n",
    "print(f'После лемматизации уникальных фраз стало {len(candidate_lemmas)}')"
   ]
  },
  {
   "cell_type": "markdown",
   "metadata": {},
   "source": [
    "### Сокращение числа кандидатов в заголовки"
   ]
  },
  {
   "cell_type": "code",
   "execution_count": 37,
   "metadata": {},
   "outputs": [],
   "source": [
    "#определение корни поддерева\n",
    "def get_root(begin_index, end_index, heads):\n",
    "    for index, head in enumerate(heads):\n",
    "        if not begin_index <= head < end_index:\n",
    "            return index"
   ]
  },
  {
   "cell_type": "code",
   "execution_count": 38,
   "metadata": {},
   "outputs": [
    {
     "data": {
      "text/plain": [
       "<matplotlib.axes._subplots.AxesSubplot at 0x7f71551dd2e8>"
      ]
     },
     "execution_count": 38,
     "metadata": {},
     "output_type": "execute_result"
    },
    {
     "data": {
      "image/png": "[encoded data removed]",
      "text/plain": [
       "<Figure size 432x288 with 1 Axes>"
      ]
     },
     "metadata": {},
     "output_type": "display_data"
    }
   ],
   "source": [
    "main_poses = candidates.apply(lambda x: x.poses[get_root(x.begin_index, x.end_index, x.heads)], axis=1)\n",
    "main_poses.value_counts().plot.bar()"
   ]
  },
  {
   "cell_type": "markdown",
   "metadata": {},
   "source": [
    "Оставим только фразы, где корнем в синтаксическом дереве является либо сущиствительное (NOUN), либо глагол (VERB)"
   ]
  },
  {
   "cell_type": "code",
   "execution_count": 39,
   "metadata": {},
   "outputs": [
    {
     "name": "stdout",
     "output_type": "stream",
     "text": [
      "NOUN\n",
      "\tВсего в корпусе было выделенно 510237 фраз\n",
      "\tУникальных фраз 112555\n",
      "\tПосле лемматизации уникальных фраз стало 71567\n",
      "VERB\n",
      "\tВсего в корпусе было выделенно 147106 фраз\n",
      "\tУникальных фраз 50545\n",
      "\tПосле лемматизации уникальных фраз стало 32986\n"
     ]
    }
   ],
   "source": [
    "candidates_noun = candidates[main_poses == 'NOUN']\n",
    "candidates_verb = candidates[main_poses == 'VERB']\n",
    "\n",
    "print('NOUN')\n",
    "print(f'\\tВсего в корпусе было выделенно {len(candidates_noun)} фраз')\n",
    "print(f'\\tУникальных фраз {len(candidates_noun.form_id.unique())}')\n",
    "print(f'\\tПосле лемматизации уникальных фраз стало {len(candidates_noun.lemma_id.unique())}')\n",
    "\n",
    "print('VERB')\n",
    "print(f'\\tВсего в корпусе было выделенно {len(candidates_verb)} фраз')\n",
    "print(f'\\tУникальных фраз {len(candidates_verb.form_id.unique())}')\n",
    "print(f'\\tПосле лемматизации уникальных фраз стало {len(candidates_verb.lemma_id.unique())}')\n",
    "\n",
    "candidates_noun.to_pickle('../data/interim/candidates_noun.pkl')\n",
    "candidates_verb.to_pickle('../data/interim/candidates_verb.pkl')"
   ]
  },
  {
   "cell_type": "markdown",
   "metadata": {},
   "source": [
    "Среди именованных груп оставим только фразы, где главное слово стоит в именительном падеже"
   ]
  },
  {
   "cell_type": "code",
   "execution_count": 40,
   "metadata": {},
   "outputs": [
    {
     "data": {
      "text/plain": [
       "<matplotlib.axes._subplots.AxesSubplot at 0x7f7175d2ab38>"
      ]
     },
     "execution_count": 40,
     "metadata": {},
     "output_type": "execute_result"
    },
    {
     "data": {
      "image/png": "[encoded data removed]",
      "text/plain": [
       "<Figure size 432x288 with 1 Axes>"
      ]
     },
     "metadata": {},
     "output_type": "display_data"
    }
   ],
   "source": [
    "candidates_noun_main_case = candidates_noun.apply(lambda x: x.tags[get_root(x.begin_index, x.end_index, x.heads)], axis=1)\n",
    "candidates_noun_main_case = candidates_noun_main_case.apply(lambda x: x.split('|')[0])\n",
    "candidates_noun_main_case.value_counts().plot.bar()"
   ]
  },
  {
   "cell_type": "code",
   "execution_count": 42,
   "metadata": {},
   "outputs": [
    {
     "name": "stdout",
     "output_type": "stream",
     "text": [
      "NOUN Case=Nom\n",
      "\tВсего в корпусе было выделенно 94686 фраз\n",
      "\tУникальных фраз 27016\n",
      "\tПосле лемматизации уникальных фраз стало 24594\n"
     ]
    }
   ],
   "source": [
    "candidates_noun_nom = candidates_noun[candidates_noun_main_case == 'Case=Nom']\n",
    "\n",
    "print('NOUN Case=Nom')\n",
    "print(f'\\tВсего в корпусе было выделенно {len(candidates_noun_nom)} фраз')\n",
    "print(f'\\tУникальных фраз {len(candidates_noun_nom.form_id.unique())}')\n",
    "print(f'\\tПосле лемматизации уникальных фраз стало {len(candidates_noun_nom.lemma_id.unique())}')\n",
    "\n",
    "candidates_noun_nom.to_pickle('../data/interim/candidates_noun_nom.pkl')"
   ]
  },
  {
   "cell_type": "code",
   "execution_count": 81,
   "metadata": {},
   "outputs": [
    {
     "name": "stdout",
     "output_type": "stream",
     "text": [
      "VERB mult\n",
      "\tВсего в корпусе было выделенно 81383 фраз\n",
      "\tУникальных фраз 27956\n",
      "\tПосле лемматизации уникальных фраз стало 10390\n",
      "VERB sing\n",
      "\tВсего в корпусе было выделенно 65723 фраз\n",
      "\tУникальных фраз 22593\n",
      "\tПосле лемматизации уникальных фраз стало 22596\n"
     ]
    }
   ],
   "source": [
    "groups_by_lemma_id_len = candidates_verb.groupby('lemma_id').apply(lambda x: x.form_id.unique()).apply(len)\n",
    "\n",
    "mult_lemma_id = groups_by_lemma_id_len[groups_by_lemma_id_len > 1].index\n",
    "sing_lemma_id = groups_by_lemma_id_len[groups_by_lemma_id_len == 1].index\n",
    "\n",
    "candidates_verb_mult = candidates_verb[candidates_verb.lemma_id.isin(mult_lemma_id)]\n",
    "candidates_verb_sing = candidates_verb[candidates_verb.lemma_id.isin(sing_lemma_id)]\n",
    "\n",
    "print('VERB mult')\n",
    "print(f'\\tВсего в корпусе было выделенно {len(candidates_verb_mult)} фраз')\n",
    "print(f'\\tУникальных фраз {len(candidates_verb_mult.form_id.unique())}')\n",
    "print(f'\\tПосле лемматизации уникальных фраз стало {len(candidates_verb_mult.lemma_id.unique())}')\n",
    "\n",
    "print('VERB sing')\n",
    "print(f'\\tВсего в корпусе было выделенно {len(candidates_verb_sing)} фраз')\n",
    "print(f'\\tУникальных фраз {len(candidates_verb_sing.form_id.unique())}')\n",
    "print(f'\\tПосле лемматизации уникальных фраз стало {len(candidates_verb_sing.lemma_id.unique())}')\n",
    "\n",
    "candidates_verb_mult.to_pickle('../data/interim/candidates_verb_mult.pkl')\n",
    "candidates_verb_sing.to_pickle('../data/interim/candidates_verb_sing.pkl')"
   ]
  },
  {
   "cell_type": "markdown",
   "metadata": {},
   "source": [
    "### Формирование данных для Яндекс.Толока (формат *.tsv)"
   ]
  },
  {
   "cell_type": "code",
   "execution_count": 71,
   "metadata": {},
   "outputs": [],
   "source": [
    "candidates_noun_nom_toloka = candidate_forms[candidate_forms.id.isin(candidates_noun_nom.form_id.unique())]\n",
    "\n",
    "pull_n = 3\n",
    "pull_size = len(candidates_noun_nom_toloka)//pull_n+1\n",
    "\n",
    "for index in range(pull_n):\n",
    "    \n",
    "    pull = candidates_noun_nom_toloka[index*pull_size:(index+1)*pull_size]\n",
    "    pull = '\\n'.join(pull.candidate.apply(lambda x: x+'\\t\\t'))\n",
    "\n",
    "    with open(f'../data/interim/candidates_noun_nom_toloka_{index}.tsv', 'w', encoding='utf-8') as fl:\n",
    "            fl.write('INPUT:text\\tGOLDEN:result\\tHINT:text\\n'+pull)"
   ]
  },
  {
   "cell_type": "code",
   "execution_count": 82,
   "metadata": {},
   "outputs": [],
   "source": [
    "candidates_verb_sing_toloka = candidate_forms[candidate_forms.id.isin(candidates_verb_sing.form_id.unique())]\n",
    "\n",
    "pull_n = 3\n",
    "pull_size = len(candidates_verb_sing_toloka)//pull_n+1\n",
    "\n",
    "for index in range(pull_n):\n",
    "    \n",
    "    pull = candidates_verb_sing_toloka[index*pull_size:(index+1)*pull_size]\n",
    "    pull = '\\n'.join(pull.candidate.apply(lambda x: x+'\\t\\t'))\n",
    "\n",
    "    with open(f'../data/interim/candidates_verb_sing_toloka_{index}.tsv', 'w', encoding='utf-8') as fl:\n",
    "            fl.write('INPUT:text\\tGOLDEN:result\\tHINT:text\\n'+pull)"
   ]
  },
  {
   "cell_type": "code",
   "execution_count": 88,
   "metadata": {},
   "outputs": [],
   "source": [
    "candidates_verb_mult_toloka = []\n",
    "\n",
    "for _, group in candidates_verb_mult.groupby('lemma_id'):\n",
    "    group = candidate_forms[candidate_forms.id.isin(group.form_id.unique())]\n",
    "    count = len(group)\n",
    "    \n",
    "    group = '\\n'.join(group.candidate.apply(lambda x: x+'\\t\\t'))\n",
    "    candidates_verb_mult_toloka.append((count, group))\n",
    "\n",
    "candidates_verb_mult_toloka = sorted(candidates_verb_mult_toloka, key=lambda x: x[0], reverse=True)\n",
    "_, candidates_verb_mult_toloka = zip(*candidates_verb_mult_toloka)\n",
    "\n",
    "pull_n = 3\n",
    "pull_size = len(candidates_verb_mult_toloka)//pull_n+1\n",
    "\n",
    "for index in range(pull_n):\n",
    "    \n",
    "    pull = '\\n\\n'.join(candidates_verb_mult_toloka[index*pull_size:(index+1)*pull_size])\n",
    "    with open(f'../data/interim/candidates_verb_mult_toloka_{index}.tsv', 'w', encoding='utf-8') as fl:\n",
    "            fl.write('INPUT:text\\tGOLDEN:result\\tHINT:text\\n'+pull)"
   ]
  }
 ],
 "metadata": {
  "kernelspec": {
   "display_name": "Python 3",
   "language": "python",
   "name": "python3"
  },
  "language_info": {
   "codemirror_mode": {
    "name": "ipython",
    "version": 3
   },
   "file_extension": ".py",
   "mimetype": "text/x-python",
   "name": "python",
   "nbconvert_exporter": "python",
   "pygments_lexer": "ipython3",
   "version": "3.6.5"
  }
 },
 "nbformat": 4,
 "nbformat_minor": 2
}
