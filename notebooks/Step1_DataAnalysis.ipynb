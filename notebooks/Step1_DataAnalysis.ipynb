{
 "cells": [
  {
   "cell_type": "code",
   "execution_count": 2,
   "metadata": {},
   "outputs": [],
   "source": [
    "%matplotlib inline\n",
    "\n",
    "import re\n",
    "import sys\n",
    "import numpy as np\n",
    "import pandas as pd\n",
    "\n",
    "import seaborn as sns\n",
    "import matplotlib.pyplot as plt\n",
    "\n",
    "from tqdm import tqdm\n",
    "\n",
    "sns.set(style='darkgrid')"
   ]
  },
  {
   "cell_type": "markdown",
   "metadata": {},
   "source": [
    "**Корпус новостей от Yandex**"
   ]
  },
  {
   "cell_type": "code",
   "execution_count": 3,
   "metadata": {},
   "outputs": [
    {
     "data": {
      "text/html": [
       "<div>\n",
       "<style scoped>\n",
       "    .dataframe tbody tr th:only-of-type {\n",
       "        vertical-align: middle;\n",
       "    }\n",
       "\n",
       "    .dataframe tbody tr th {\n",
       "        vertical-align: top;\n",
       "    }\n",
       "\n",
       "    .dataframe thead th {\n",
       "        text-align: right;\n",
       "    }\n",
       "</style>\n",
       "<table border=\"1\" class=\"dataframe\">\n",
       "  <thead>\n",
       "    <tr style=\"text-align: right;\">\n",
       "      <th></th>\n",
       "      <th>hr_level_3</th>\n",
       "      <th>hr_level_0</th>\n",
       "      <th>hr_level_1</th>\n",
       "      <th>publication</th>\n",
       "      <th>time</th>\n",
       "      <th>title</th>\n",
       "      <th>snippet</th>\n",
       "      <th>text</th>\n",
       "    </tr>\n",
       "  </thead>\n",
       "  <tbody>\n",
       "    <tr>\n",
       "      <th>0</th>\n",
       "      <td>100-1522358182477262</td>\n",
       "      <td>Авто</td>\n",
       "      <td>Авто</td>\n",
       "      <td>Версия.Инфо</td>\n",
       "      <td>2018-03-29T16:36:00</td>\n",
       "      <td>Представлен ТОП-10 вторичных авторынков России...</td>\n",
       "      <td>Эксперты отмечают, что резкий скачок продаж по...</td>\n",
       "      <td>Аналитики агентства «АВТОСТАТ» представили ТОП...</td>\n",
       "    </tr>\n",
       "    <tr>\n",
       "      <th>1</th>\n",
       "      <td>100-1522358232202121</td>\n",
       "      <td>Авто</td>\n",
       "      <td>Авто</td>\n",
       "      <td>Финмаркет</td>\n",
       "      <td>2018-03-29T14:13:00</td>\n",
       "      <td>В этом году на льготные автокредиты и лизинг б...</td>\n",
       "      <td>FINMARKET.RU - Премьер России Дмитрий Медведев...</td>\n",
       "      <td>В этом году на льготные автокредиты и лизинг б...</td>\n",
       "    </tr>\n",
       "    <tr>\n",
       "      <th>2</th>\n",
       "      <td>100-1522358232202121</td>\n",
       "      <td>Авто</td>\n",
       "      <td>Авто</td>\n",
       "      <td>ТАСС</td>\n",
       "      <td>2018-03-29T14:16:00</td>\n",
       "      <td>Медведев: около 50 тыс. машин продадут в 2018 ...</td>\n",
       "      <td>Около 50 тыс. автомашин будет продано в текуще...</td>\n",
       "      <td>Около 50 тыс. автомашин будет продано в текуще...</td>\n",
       "    </tr>\n",
       "    <tr>\n",
       "      <th>3</th>\n",
       "      <td>100-1522358232202121</td>\n",
       "      <td>Авто</td>\n",
       "      <td>Авто</td>\n",
       "      <td>Российская газета</td>\n",
       "      <td>2018-03-29T14:30:00</td>\n",
       "      <td>Кабмин выделит 7 миллиардов рублей на льготное...</td>\n",
       "      <td>Правительство выделяет 7 миллиардов рублей на ...</td>\n",
       "      <td>Названы ставки по ипотеке и автокредитам в 201...</td>\n",
       "    </tr>\n",
       "    <tr>\n",
       "      <th>4</th>\n",
       "      <td>100-1522358232202121</td>\n",
       "      <td>Авто</td>\n",
       "      <td>Авто</td>\n",
       "      <td>Телеканал 360°</td>\n",
       "      <td>2018-03-29T14:43:00</td>\n",
       "      <td>Правительство РФ выделит порядка 7 млрд на льг...</td>\n",
       "      <td>Из указанной суммы около семи миллиардов напра...</td>\n",
       "      <td>Правительством России предусмотрено свыше 12 м...</td>\n",
       "    </tr>\n",
       "  </tbody>\n",
       "</table>\n",
       "</div>"
      ],
      "text/plain": [
       "             hr_level_3 hr_level_0 hr_level_1        publication  \\\n",
       "0  100-1522358182477262       Авто       Авто        Версия.Инфо   \n",
       "1  100-1522358232202121       Авто       Авто          Финмаркет   \n",
       "2  100-1522358232202121       Авто       Авто               ТАСС   \n",
       "3  100-1522358232202121       Авто       Авто  Российская газета   \n",
       "4  100-1522358232202121       Авто       Авто     Телеканал 360°   \n",
       "\n",
       "                  time                                              title  \\\n",
       "0  2018-03-29T16:36:00  Представлен ТОП-10 вторичных авторынков России...   \n",
       "1  2018-03-29T14:13:00  В этом году на льготные автокредиты и лизинг б...   \n",
       "2  2018-03-29T14:16:00  Медведев: около 50 тыс. машин продадут в 2018 ...   \n",
       "3  2018-03-29T14:30:00  Кабмин выделит 7 миллиардов рублей на льготное...   \n",
       "4  2018-03-29T14:43:00  Правительство РФ выделит порядка 7 млрд на льг...   \n",
       "\n",
       "                                             snippet  \\\n",
       "0  Эксперты отмечают, что резкий скачок продаж по...   \n",
       "1  FINMARKET.RU - Премьер России Дмитрий Медведев...   \n",
       "2  Около 50 тыс. автомашин будет продано в текуще...   \n",
       "3  Правительство выделяет 7 миллиардов рублей на ...   \n",
       "4  Из указанной суммы около семи миллиардов напра...   \n",
       "\n",
       "                                                text  \n",
       "0  Аналитики агентства «АВТОСТАТ» представили ТОП...  \n",
       "1  В этом году на льготные автокредиты и лизинг б...  \n",
       "2  Около 50 тыс. автомашин будет продано в текуще...  \n",
       "3  Названы ставки по ипотеке и автокредитам в 201...  \n",
       "4  Правительством России предусмотрено свыше 12 м...  "
      ]
     },
     "execution_count": 3,
     "metadata": {},
     "output_type": "execute_result"
    }
   ],
   "source": [
    "new_columns_name = {'ID СОБЫТИЯ':'hr_level_3', 'ВРЕМЯ ПУБЛИКАЦИИ':'time', 'НОВОСТНОЕ ИЗДАНИЕ':'publication',  \n",
    "                    'РУБРИКА':'hr_level_0', 'ПОДРУБРИКА':'hr_level_1', \n",
    "                    'ЗАГОЛОВОК СТАТЬИ':'title', 'СНИППЕТ':'snippet', 'ТЕКСТ':'text'}\n",
    "\n",
    "articles = pd.read_csv('../data/raw/articles.csv', sep=';')\n",
    "articles = articles.dropna().drop('URL', axis=1)\n",
    "articles = articles.rename(index=str, columns=new_columns_name)\n",
    "\n",
    "articles.head()"
   ]
  },
  {
   "cell_type": "code",
   "execution_count": 12,
   "metadata": {},
   "outputs": [
    {
     "data": {
      "text/plain": [
       "33"
      ]
     },
     "execution_count": 12,
     "metadata": {},
     "output_type": "execute_result"
    }
   ],
   "source": [
    "len(articles.hr_level_1.drop_duplicates())"
   ]
  },
  {
   "cell_type": "code",
   "execution_count": 3,
   "metadata": {},
   "outputs": [
    {
     "name": "stdout",
     "output_type": "stream",
     "text": [
      "Новостной корпус содержит 14414 статьи, которые разбиты на 3239 групп.\n"
     ]
    }
   ],
   "source": [
    "print(f'Новостной корпус содержит {len(articles)} статьи, которые разбиты на {len(articles.hr_level_3.unique())} групп.')"
   ]
  },
  {
   "cell_type": "markdown",
   "metadata": {},
   "source": [
    "**Удаление лишних пробельных символов**"
   ]
  },
  {
   "cell_type": "code",
   "execution_count": 4,
   "metadata": {},
   "outputs": [],
   "source": [
    "clean_space = lambda x: re.sub('\\s+', ' ', x)\n",
    "\n",
    "articles.title = articles.title.apply(clean_space)\n",
    "articles.text = articles.text.apply(clean_space)"
   ]
  },
  {
   "cell_type": "markdown",
   "metadata": {},
   "source": [
    "**Доля букв кирилического алфавита в новостных статьях**"
   ]
  },
  {
   "cell_type": "code",
   "execution_count": 5,
   "metadata": {},
   "outputs": [
    {
     "name": "stdout",
     "output_type": "stream",
     "text": [
      "Группы содержат от 0.1231572958154451 до 0.9948979591836735 букв кириллического алфавита\n"
     ]
    }
   ],
   "source": [
    "def count_cyrillic_characters(text):\n",
    "    \n",
    "    text = text.replace(' ', '').lower()\n",
    "    return len(re.findall('[а-я]', text))/len(text)\n",
    "\n",
    "cyrillic_characters_counts = articles.text.apply(count_cyrillic_characters)\n",
    "print('Группы содержат от {} до {} букв кириллического алфавита'.format(min(cyrillic_characters_counts), max(cyrillic_characters_counts)))"
   ]
  },
  {
   "cell_type": "code",
   "execution_count": 6,
   "metadata": {},
   "outputs": [
    {
     "data": {
      "image/png": "[encoded data removed]",
      "text/plain": [
       "<Figure size 720x360 with 1 Axes>"
      ]
     },
     "metadata": {},
     "output_type": "display_data"
    }
   ],
   "source": [
    "hist = cyrillic_characters_counts.plot.hist(figsize=(10, 5), bins=100)\n",
    "hist.set(xlabel='Доля букв кириллического алфавита', ylabel='Количество новостных статей')\n",
    "\n",
    "plt.show()"
   ]
  },
  {
   "cell_type": "markdown",
   "metadata": {},
   "source": [
    "По графику видно, что часть новостных статей, содержит небольшую долю кириллических букв - это может сведельствовать о том, что статьи перенасыщены числовыми показателями (например, сводки курсов валют) или содержат много мусора (например, часть кода разметки страницы).\n",
    "\n",
    "Далее будем работать только со статьями содержащими неменее 0.8 кириллических букв."
   ]
  },
  {
   "cell_type": "code",
   "execution_count": 7,
   "metadata": {},
   "outputs": [
    {
     "name": "stdout",
     "output_type": "stream",
     "text": [
      "Новостной корпус содержит 13631 статьи, которые разбиты на 3193 группы.\n"
     ]
    }
   ],
   "source": [
    "articles = articles[cyrillic_characters_counts >= 0.8]\n",
    "print(f'Новостной корпус содержит {len(articles)} статьи, которые разбиты на {len(articles.hr_level_3.unique())} группы.')"
   ]
  },
  {
   "cell_type": "markdown",
   "metadata": {},
   "source": [
    "**Количество новостных статей в темах**"
   ]
  },
  {
   "cell_type": "code",
   "execution_count": 8,
   "metadata": {},
   "outputs": [
    {
     "name": "stdout",
     "output_type": "stream",
     "text": [
      "Группы содержат от 1 до 70 статей\n"
     ]
    }
   ],
   "source": [
    "topics_counts = articles.groupby('hr_level_3').hr_level_3.count()\n",
    "print(f'Группы содержат от {min(topics_counts)} до {max(topics_counts)} статей')"
   ]
  },
  {
   "cell_type": "code",
   "execution_count": 9,
   "metadata": {},
   "outputs": [
    {
     "data": {
      "image/png": "[encoded data removed]",
      "text/plain": [
       "<Figure size 720x360 with 1 Axes>"
      ]
     },
     "metadata": {},
     "output_type": "display_data"
    }
   ],
   "source": [
    "hist = topics_counts.plot.hist(figsize=(10, 5), bins=70)\n",
    "hist.set(xlabel='Количество новостных статей', ylabel='Количество групп')\n",
    "\n",
    "plt.show()"
   ]
  },
  {
   "cell_type": "code",
   "execution_count": 10,
   "metadata": {},
   "outputs": [
    {
     "name": "stdout",
     "output_type": "stream",
     "text": [
      "Новостной корпус содержит 11127 статьи, которые разбиты на 1312 группы.\n"
     ]
    }
   ],
   "source": [
    "articles = articles[articles.hr_level_3.isin(topics_counts[topics_counts >= 3].index)]\n",
    "print(f'Новостной корпус содержит {len(articles)} статьи, которые разбиты на {len(articles.hr_level_3.unique())} группы.')"
   ]
  },
  {
   "cell_type": "code",
   "execution_count": 11,
   "metadata": {},
   "outputs": [],
   "source": [
    "articles['hr_level_1'][articles.hr_level_0 == articles.hr_level_1] = np.nan\n",
    "articles['hr_level_2'] = np.nan\n",
    "articles['hr_level_4'] = np.nan\n",
    "\n",
    "articles['id'] = range(len(articles))\n",
    "articles = articles[['id', 'hr_level_0', 'hr_level_1', 'hr_level_2', 'hr_level_3', 'hr_level_4',\n",
    "                     'time', 'publication', 'title', 'snippet', 'text']]\n",
    "\n",
    "articles.to_csv(f'../data/interim/articles.csv', index=False)"
   ]
  }
 ],
 "metadata": {
  "kernelspec": {
   "display_name": "Python 3",
   "language": "python",
   "name": "python3"
  },
  "language_info": {
   "codemirror_mode": {
    "name": "ipython",
    "version": 3
   },
   "file_extension": ".py",
   "mimetype": "text/x-python",
   "name": "python",
   "nbconvert_exporter": "python",
   "pygments_lexer": "ipython3",
   "version": "3.6.9"
  }
 },
 "nbformat": 4,
 "nbformat_minor": 4
}
